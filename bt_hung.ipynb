{
 "cells": [
  {
   "cell_type": "code",
   "execution_count": 24,
   "id": "abc42ec1-76bf-462b-af17-1470fdb96827",
   "metadata": {},
   "outputs": [],
   "source": [
    "# chapter 1\n",
    "import numpy as np\n",
    "from hung import input_matrix,gauss_jordan_inverse,gram_schmidt\n",
    "# vd1:"
   ]
  },
  {
   "cell_type": "code",
   "execution_count": 19,
   "id": "ba14bf09-6bd4-45c7-8f06-d7e52a0c349d",
   "metadata": {},
   "outputs": [
    {
     "name": "stdout",
     "output_type": "stream",
     "text": [
      "Nhập kích thước ma trận vuông n x n:  4\n"
     ]
    },
    {
     "name": "stdout",
     "output_type": "stream",
     "text": [
      "Nhập từng dòng của ma trận, cách nhau bởi dấu cách:\n"
     ]
    },
    {
     "name": "stdout",
     "output_type": "stream",
     "text": [
      "Dòng 1:  -1 0 1 -1\n",
      "Dòng 2:  2 1 -3 4\n",
      "Dòng 3:  1 2 -2 8\n",
      "Dòng 4:  -2 0 2 1\n"
     ]
    },
    {
     "name": "stdout",
     "output_type": "stream",
     "text": [
      "Ma trận nghịch đảo của A là:\n",
      " [[-1.33333333 -2.          1.         -1.33333333]\n",
      " [ 2.33333333 -1.          1.         -1.66666667]\n",
      " [-1.         -2.          1.         -1.        ]\n",
      " [-0.66666667  0.          0.          0.33333333]]\n"
     ]
    }
   ],
   "source": [
    "try:\n",
    "    A = input_matrix()\n",
    "    A_inv = gauss_jordan_inverse(A)\n",
    "    print(\"Ma trận nghịch đảo của A là:\\n\", A_inv)\n",
    "except ValueError as e:\n",
    "    print(e)"
   ]
  },
  {
   "cell_type": "code",
   "execution_count": 15,
   "id": "437875a3-a3d9-4695-a0b9-b300f5467e89",
   "metadata": {},
   "outputs": [
    {
     "name": "stdout",
     "output_type": "stream",
     "text": [
      "Nhập kích thước ma trận vuông n x n:  4\n"
     ]
    },
    {
     "name": "stdout",
     "output_type": "stream",
     "text": [
      "Nhập từng dòng của ma trận, cách nhau bởi dấu cách:\n"
     ]
    },
    {
     "name": "stdout",
     "output_type": "stream",
     "text": [
      "Dòng 1:  1 1 1 1\n",
      "Dòng 2:  2 2 3 5\n",
      "Dòng 3:  3 3 4 5\n",
      "Dòng 4:  1 1 1 2\n"
     ]
    },
    {
     "name": "stdout",
     "output_type": "stream",
     "text": [
      "Ma trận không khả nghịch!\n"
     ]
    }
   ],
   "source": [
    "try:\n",
    "    B = input_matrix()\n",
    "    B_inv = gauss_jordan_inverse(B)\n",
    "    print(\"Ma trận nghịch đảo của A là:\\n\", B_inv)\n",
    "except ValueError as e:\n",
    "    print(e)"
   ]
  },
  {
   "cell_type": "code",
   "execution_count": 21,
   "id": "f0c3890e-a714-4877-ae97-eae7ceee2be5",
   "metadata": {},
   "outputs": [],
   "source": [
    "# vd2:\n",
    "A_T = A.T\n",
    "A_T_inv = gauss_jordan_inverse(A_T)"
   ]
  },
  {
   "cell_type": "code",
   "execution_count": 25,
   "id": "c3cd40d1-c314-4aef-95ff-621e935e5d20",
   "metadata": {},
   "outputs": [
    {
     "name": "stdout",
     "output_type": "stream",
     "text": [
      "X:\n",
      " [[ -4.66666667   0.66666667  -2.          -1.33333333]\n",
      " [ -8.33333333  -1.66666667 -11.           4.33333333]\n",
      " [-11.66666667   1.66666667 -12.           7.66666667]\n",
      " [ -7.          -1.          -2.           1.        ]]\n"
     ]
    }
   ],
   "source": [
    "print(\"X:\\n\",np.dot(B,A_T_inv) + A)"
   ]
  },
  {
   "cell_type": "code",
   "execution_count": 36,
   "id": "3c21caaf-83f5-457f-88c3-7a52de08ac95",
   "metadata": {},
   "outputs": [
    {
     "name": "stdout",
     "output_type": "stream",
     "text": [
      "Nhập kích thước ma trận vuông n x n:  2\n"
     ]
    },
    {
     "name": "stdout",
     "output_type": "stream",
     "text": [
      "Nhập từng dòng của ma trận, cách nhau bởi dấu cách:\n"
     ]
    },
    {
     "name": "stdout",
     "output_type": "stream",
     "text": [
      "Dòng 1:  1 0\n",
      "Dòng 2:  0 9\n"
     ]
    },
    {
     "name": "stdout",
     "output_type": "stream",
     "text": [
      "[[ 1.  0.]\n",
      " [ 0. 81.]]\n"
     ]
    }
   ],
   "source": [
    "import numpy as np\n",
    "# vd 3:\n",
    "A = input_matrix()\n",
    "k = 2\n",
    "print(A ** k)"
   ]
  },
  {
   "cell_type": "code",
   "execution_count": 46,
   "id": "d133d31f-fc08-4dac-87fb-8c88c14ac619",
   "metadata": {},
   "outputs": [
    {
     "name": "stdout",
     "output_type": "stream",
     "text": [
      "m != -2\n",
      "m != 1\n"
     ]
    }
   ],
   "source": [
    "import numpy as np\n",
    "#vd 4:\n",
    "from sympy import symbols , Matrix, det, solve\n",
    "m = symbols('m')\n",
    "A = Matrix([\n",
    "    [m +1 , 1 , 3],\n",
    "    [2,m+2,0],\n",
    "    [2*m,1,3]])\n",
    "det_A = det(A)\n",
    "hung = solve(det_A , m)\n",
    "for i in hung:\n",
    "    print(f'm != {i}')"
   ]
  },
  {
   "cell_type": "code",
   "execution_count": 33,
   "id": "a4449445-46c2-4a55-9a2d-84b490658de8",
   "metadata": {},
   "outputs": [
    {
     "name": "stdout",
     "output_type": "stream",
     "text": [
      "Nhập số chiều của vector:  3\n",
      "Nhập số lượng vector:  3\n"
     ]
    },
    {
     "name": "stdout",
     "output_type": "stream",
     "text": [
      "Nhập từng vector (các phần tử cách nhau bằng dấu cách):\n"
     ]
    },
    {
     "name": "stdout",
     "output_type": "stream",
     "text": [
      "Vector 1:  1 -1 1\n",
      "Vector 2:  -1 1 1\n",
      "Vector 3:  1 1 -1\n"
     ]
    },
    {
     "name": "stdout",
     "output_type": "stream",
     "text": [
      "\n",
      "Các vector trực chuẩn hóa:\n",
      "[[ 0.57735027 -0.57735027  0.57735027]\n",
      " [-0.40824829  0.40824829  0.81649658]\n",
      " [ 0.70710678  0.70710678  0.        ]]\n"
     ]
    }
   ],
   "source": [
    "# chapter 2\n",
    "# slide 22:\n",
    "import numpy as np\n",
    "# Nhập vector từ người dùng\n",
    "num_vectors = int(input(\"Nhập số chiều của vector: \"))\n",
    "vector_dim = int(input(\"Nhập số lượng vector: \"))\n",
    "\n",
    "vectors = []\n",
    "print(\"Nhập từng vector (các phần tử cách nhau bằng dấu cách):\")\n",
    "for i in range(num_vectors):\n",
    "    vector = list(map(float, input(f\"Vector {i+1}: \").split()))\n",
    "    if len(vector) != vector_dim:\n",
    "        print(\"Lỗi: Số phần tử không đúng, vui lòng nhập lại!\")\n",
    "        exit()\n",
    "    vectors.append(vector)\n",
    "# chuyển đổi sang numpy array và thực hiện Gram-Schimidt\n",
    "V = np.array(vectors).T  # Chuyển ma trận để mỗi cột là một vector\n",
    "\n",
    "# Áp dụng Gram-Schmidt\n",
    "U = gram_schmidt(V)\n",
    "\n",
    "print(\"\\nCác vector trực chuẩn hóa:\")\n",
    "print(U.T)  # Chuyển lại dạng vector ban đầu\n"
   ]
  },
  {
   "cell_type": "code",
   "execution_count": null,
   "id": "3e94503b-cb7f-43cd-b5bb-e67d77668617",
   "metadata": {},
   "outputs": [],
   "source": [
    "# slide 20"
   ]
  },
  {
   "cell_type": "code",
   "execution_count": 22,
   "id": "c8f135fe-14d0-47ca-8982-c5deccdcbdd2",
   "metadata": {},
   "outputs": [
    {
     "name": "stdout",
     "output_type": "stream",
     "text": [
      "[[1 0 1 1]\n",
      " [1 1 0 1]\n",
      " [1 1 1 0]\n",
      " [1 1 1 1]]\n",
      "[[1 0 0 1]\n",
      " [1 1 0 0]\n",
      " [0 1 1 0]\n",
      " [0 0 1 0]]\n",
      "B: 1.0\n",
      "S: -1.0\n",
      "Ta có ma trận chuyển cơ sở:\n",
      "[[ 1.  1.  0.  2.]\n",
      " [ 0.  0.  0. -1.]\n",
      " [ 1.  1.  1.  1.]\n",
      " [ 0. -1.  1. -1.]]\n",
      "Tọa độ vecto theo cơ sở B:\n",
      "[-9.  6.  4.  2.]\n"
     ]
    }
   ],
   "source": [
    "import numpy as np  \n",
    "\n",
    "B = [\n",
    "    [1, 1, 1, 1],\n",
    "    [0, 1, 1, 1],\n",
    "    [1, 0, 1, 1],\n",
    "    [1, 1, 0, 1]\n",
    "]\n",
    "\n",
    "S = [\n",
    "    [1, 1, 0, 0],\n",
    "    [0, 1, 1, 0],\n",
    "    [0, 0, 1, 1],\n",
    "    [1, 0, 0, 0]\n",
    "]\n",
    "B_matrix = np.array(B).T\n",
    "print(B_matrix)\n",
    "S_matrix = np.array(S).T\n",
    "print(S_matrix)\n",
    "det_B = np.linalg.det(B_matrix)\n",
    "det_S = np.linalg.det(S_matrix)\n",
    "print(f\"B: {det_B}\")\n",
    "print(f\"S: {det_S}\")\n",
    "\n",
    "\n",
    "P_S_from_B = np.linalg.inv(S_matrix) @ B_matrix\n",
    "print(\"Ta có ma trận chuyển cơ sở:\")\n",
    "print(P_S_from_B)\n",
    "print(\"Tọa độ vecto theo cơ sở B:\")\n",
    "print(np.linalg.inv(P_S_from_B) @ u_S)"
   ]
  },
  {
   "cell_type": "code",
   "execution_count": 12,
   "id": "259d0fe3",
   "metadata": {},
   "outputs": [
    {
     "name": "stdout",
     "output_type": "stream",
     "text": [
      "f là ánh xa 5 tuyến tính: True\n",
      "Anh cua f la: imf = span{(1,0),(0,1),(1,1)}\n",
      "kerf là: kerf = {(0,0)}\n",
      "\n",
      "hạng của f (rank): 2\n",
      " Số khuyết của f (nullity): 0\n"
     ]
    }
   ],
   "source": [
    "# slide 25\n",
    "import numpy as np  \n",
    "from hung import is_linear_mapping,find_image,find_kernel,rank_of_vectors\n",
    "A = np.array([\n",
    "    [1,0],\n",
    "    [0,1],\n",
    "    [1,1]])\n",
    "print('f là ánh xa 5 tuyến tính:',is_linear_mapping(A))\n",
    "print('Anh cua f la: imf = span{(1,0),(0,1),(1,1)}')\n",
    "print('kerf là: kerf = {(0,0)}')\n",
    "rank = np.linalg.matrix_rank(A)\n",
    "nullity = A.shape[1] - rank  # Số khuyết = số biến - hạng\n",
    "print(f\"\\nhạng của f (rank): {rank}\")\n",
    "print(f\" Số khuyết của f (nullity): {nullity}\")\n"
   ]
  },
  {
   "cell_type": "code",
   "execution_count": 14,
   "id": "4a2dcf05-a179-4f83-a3d7-9bbd31cea9ca",
   "metadata": {},
   "outputs": [
    {
     "name": "stdout",
     "output_type": "stream",
     "text": [
      "[[1. 0. 0.]\n",
      " [0. 0. 0.]\n",
      " [0. 0. 0.]] \n",
      "\n",
      "[[1. 2. 0.]\n",
      " [0. 0. 0.]\n",
      " [0. 0. 0.]] \n",
      "\n",
      "[[1. 2. 3.]\n",
      " [0. 0. 0.]\n",
      " [0. 0. 0.]] \n",
      "\n",
      "[[1. 2. 3.]\n",
      " [1. 0. 0.]\n",
      " [0. 0. 0.]] \n",
      "\n",
      "[[1. 2. 3.]\n",
      " [1. 3. 0.]\n",
      " [0. 0. 0.]] \n",
      "\n",
      "[[1. 2. 3.]\n",
      " [1. 3. 7.]\n",
      " [0. 0. 0.]] \n",
      "\n",
      "[[1. 2. 3.]\n",
      " [1. 3. 7.]\n",
      " [1. 0. 0.]] \n",
      "\n",
      "[[1. 2. 3.]\n",
      " [1. 3. 7.]\n",
      " [1. 4. 0.]] \n",
      "\n",
      "[[1. 2. 3.]\n",
      " [1. 3. 7.]\n",
      " [1. 4. 5.]] \n",
      "\n",
      "ta có ma trận A:\n",
      "[[1. 2. 3.]\n",
      " [1. 3. 7.]\n",
      " [1. 4. 5.]]\n",
      "Ker(f) có số chiều: 0\n",
      "Cơ sở của Ker(f):\n",
      " []\n"
     ]
    }
   ],
   "source": [
    "# slide 26\n",
    "import numpy as np\n",
    "\n",
    "# Giả sử ma trận A có kích thước m x n\n",
    "m = int(input('số hàng của ma trận là:'))\n",
    "n = int(input('số cột của ma trận là:'))\n",
    "A = np.zeros((m,n))\n",
    "for i in range(m):\n",
    "    for j in range(n):\n",
    "        A[i][j] = input(f'nhập phần tử hàng {i+1} cột {j+1} của ma trận A:')      \n",
    "        print(A, '\\n')\n",
    "print('ta có ma trận A:')\n",
    "print(A)\n",
    "# Tìm hạng của ma trận A\n",
    "rank = np.linalg.matrix_rank(A)\n",
    "\n",
    "# Số chiều của Ker(f)\n",
    "dim_ker = A.shape[1] - rank  # n - rank(A)\n",
    "\n",
    "# Tìm nghiệm của hệ Ax = 0 (sử dụng SVD)\n",
    "U, s, Vh = np.linalg.svd(A)\n",
    "null_space_basis = Vh[rank:].T\n",
    "\n",
    "print(\"Ker(f) có số chiều:\", dim_ker)\n",
    "print(\"Cơ sở của Ker(f):\\n\", null_space_basis)"
   ]
  },
  {
   "cell_type": "code",
   "execution_count": 6,
   "id": "b750ad67-9649-435a-afce-cd094f2f79b8",
   "metadata": {},
   "outputs": [
    {
     "name": "stdout",
     "output_type": "stream",
     "text": [
      "f_vec = Matrix([[x1], [x2], [x3]])\n",
      "Jacobian =\n",
      "Matrix([[1, 0, 0], [0, 1, 0], [0, 0, 1]])\n"
     ]
    }
   ],
   "source": [
    "# chapter 3\n",
    "import sympy as sp\n",
    "x1, x2, x3 = sp.symbols('x1 x2 x3', real=True)\n",
    "f_vec = sp.Matrix([x1, x2, x3])\n",
    "print(\"f_vec =\",f_vec)\n",
    "J = f_vec.jacobian([x1, x2, x3])\n",
    "print(\"Jacobian =\")\n",
    "print(J)"
   ]
  },
  {
   "cell_type": "code",
   "execution_count": 8,
   "id": "49923b5a-cb41-4139-9b06-a9b32ae5a1f4",
   "metadata": {},
   "outputs": [
    {
     "name": "stdout",
     "output_type": "stream",
     "text": [
      "Gradient of a^T x = [a1, a2, a3]\n"
     ]
    }
   ],
   "source": [
    "a1, a2, a3 = sp.symbols('a1 a2 a3', real=True)\n",
    "a = sp.Matrix([a1, a2, a3])\n",
    "x = sp.Matrix([x1, x2, x3])\n",
    "# f(x) = a^T x = a1*x1 + a2*x2 + a3*x3\n",
    "f = a.dot(x)\n",
    "grad_f = sp.derive_by_array(f, (x1, x2, x3))\n",
    "print(\"Gradient\", grad_f)"
   ]
  },
  {
   "cell_type": "code",
   "execution_count": 18,
   "id": "937150a5-50d0-49d7-97e9-a9e4c4f58a5b",
   "metadata": {},
   "outputs": [
    {
     "name": "stdout",
     "output_type": "stream",
     "text": [
      "Matrix([[x1*(A11*x1 + A21*x2 + A31*x3) + x2*(A12*x1 + A22*x2 + A32*x3) + x3*(A13*x1 + A23*x2 + A33*x3)]])\n",
      "\n",
      "x1*(A11*x1 + A21*x2 + A31*x3) + x2*(A12*x1 + A22*x2 + A32*x3) + x3*(A13*x1 + A23*x2 + A33*x3)\n",
      "\n",
      "Gradient of x^T A x = \n",
      " [2*A11*x1 + A12*x2 + A13*x3 + A21*x2 + A31*x3, A12*x1 + A21*x1 + 2*A22*x2 + A23*x3 + A32*x3, A13*x1 + A23*x2 + A31*x1 + A32*x2 + 2*A33*x3]\n"
     ]
    }
   ],
   "source": [
    "A11, A12, A13 = sp.symbols('A11 A12 A13', real=True)\n",
    "A21, A22, A23 = sp.symbols('A21 A22 A23', real=True)\n",
    "A31, A32, A33 = sp.symbols('A31 A32 A33', real=True)\n",
    "A = sp.Matrix([\n",
    "    [A11, A12, A13],\n",
    "    [A21, A22, A23],\n",
    "    [A31, A32, A33]\n",
    "])\n",
    "f = (x.transpose() * A * x)\n",
    "print(f)\n",
    "print()\n",
    "f = (x.transpose() * A * x)[0]\n",
    "print(f)\n",
    "print()\n",
    "grad_f = sp.derive_by_array(f, (x1, x2, x3))\n",
    "print(\"Gradient \\n\", grad_f)"
   ]
  },
  {
   "cell_type": "code",
   "execution_count": 20,
   "id": "902e54bc-b22f-4711-b23c-65e48e532e6a",
   "metadata": {},
   "outputs": [
    {
     "name": "stdout",
     "output_type": "stream",
     "text": [
      "Gradient [2*x1, 2*x2, 2*x3]\n"
     ]
    }
   ],
   "source": [
    "f = x.dot(x)\n",
    "grad_f = sp.derive_by_array(f, (x1, x2, x3))\n",
    "print(\"Gradient\", grad_f)"
   ]
  },
  {
   "cell_type": "code",
   "execution_count": 24,
   "id": "773e9892-a410-4165-988d-3c085e44559e",
   "metadata": {},
   "outputs": [
    {
     "name": "stdout",
     "output_type": "stream",
     "text": [
      "Gradient \n",
      " [2*A11*(A11*x1 + A12*x2 + A13*x3 - b1) + 2*A21*(A21*x1 + A22*x2 + A23*x3 - b2) + 2*A31*(A31*x1 + A32*x2 + A33*x3 - b3), 2*A12*(A11*x1 + A12*x2 + A13*x3 - b1) + 2*A22*(A21*x1 + A22*x2 + A23*x3 - b2) + 2*A32*(A31*x1 + A32*x2 + A33*x3 - b3), 2*A13*(A11*x1 + A12*x2 + A13*x3 - b1) + 2*A23*(A21*x1 + A22*x2 + A23*x3 - b2) + 2*A33*(A31*x1 + A32*x2 + A33*x3 - b3)]\n"
     ]
    }
   ],
   "source": [
    "b1, b2, b3 = sp.symbols('b1 b2 b3', real=True)\n",
    "b = sp.Matrix([b1, b2, b3])\n",
    "f = (A*x - b).dot(A*x - b) \n",
    "grad_f = sp.derive_by_array(f, (x1, x2, x3))\n",
    "print(\"Gradient \\n\", grad_f)"
   ]
  },
  {
   "cell_type": "code",
   "execution_count": 28,
   "id": "58c56f99-3d34-427d-a313-76cabff587b4",
   "metadata": {},
   "outputs": [
    {
     "name": "stdout",
     "output_type": "stream",
     "text": [
      "Gradient: [2*x1*(a1*b1 + a2*b2 + a3*b3), 2*x2*(a1*b1 + a2*b2 + a3*b3), 2*x3*(a1*b1 + a2*b2 + a3*b3)]\n"
     ]
    }
   ],
   "source": [
    "x = sp.symbols('x1 x2 x3', real=True)\n",
    "x_vec = sp.Matrix(x)\n",
    "a = sp.symbols('a1 a2 a3', real=True)\n",
    "b = sp.symbols('b1 b2 b3', real=True)\n",
    "a_vec = sp.Matrix(a)\n",
    "b_vec = sp.Matrix(b)\n",
    "f_expr = a_vec.dot(b_vec) * x_vec.dot(x_vec)\n",
    "grad_f = sp.derive_by_array(f_expr, x)\n",
    "print(\"Gradient:\", grad_f)"
   ]
  },
  {
   "cell_type": "code",
   "execution_count": 30,
   "id": "c924a16a-e980-4d40-94f3-e6e8d050e856",
   "metadata": {},
   "outputs": [
    {
     "name": "stdout",
     "output_type": "stream",
     "text": [
      "Gradient: [a1*(b1*x1 + b2*x2 + b3*x3) + b1*(a1*x1 + a2*x2 + a3*x3), a2*(b1*x1 + b2*x2 + b3*x3) + b2*(a1*x1 + a2*x2 + a3*x3), a3*(b1*x1 + b2*x2 + b3*x3) + b3*(a1*x1 + a2*x2 + a3*x3)]\n"
     ]
    }
   ],
   "source": [
    "f_expr_2 = (a_vec.dot(x_vec)) * (x_vec.dot(b_vec))\n",
    "grad_f_2 = sp.derive_by_array(f_expr_2, x)\n",
    "print(\"Gradient:\", grad_f_2)"
   ]
  },
  {
   "cell_type": "code",
   "execution_count": null,
   "id": "f117ce16-8ef7-4e50-a7c1-3a60168dffa1",
   "metadata": {},
   "outputs": [],
   "source": [
    "# trang ben canh (next side)"
   ]
  },
  {
   "cell_type": "code",
   "execution_count": 38,
   "id": "cce5698c-3be1-4466-92b3-abc3d66f8de0",
   "metadata": {},
   "outputs": [
    {
     "name": "stdout",
     "output_type": "stream",
     "text": [
      "X11 + X22\n",
      "[1, 0, 0, 1]\n",
      "Matrix([[1, 0], [0, 1]])\n"
     ]
    }
   ],
   "source": [
    "import sympy as sp\n",
    "X11, X12, X21, X22 = sp.symbols('X11 X12 X21 X22', real=True)\n",
    "X = sp.Matrix([\n",
    "    [X11, X12],\n",
    "    [X21, X22]\n",
    "])\n",
    "f_trace = X.trace()\n",
    "print(f_trace)\n",
    "var_X = (X11, X12, X21, X22)\n",
    "grad_list = sp.derive_by_array(f_trace, var_X)\n",
    "print(grad_list)\n",
    "grad_mat = sp.Matrix(grad_list).reshape(2, 2)\n",
    "print(grad_mat)"
   ]
  },
  {
   "cell_type": "code",
   "execution_count": 44,
   "id": "7e64f2f7-5813-4468-9583-e6eea5c17203",
   "metadata": {},
   "outputs": [
    {
     "name": "stdout",
     "output_type": "stream",
     "text": [
      "A11*X11 + A12*X12 + A21*X21 + A22*X22\n",
      "\n",
      "[A11, A12, A21, A22]\n",
      "\n",
      "Matrix([[A11, A12], [A21, A22]])\n"
     ]
    }
   ],
   "source": [
    "A11, A12, A21, A22 = sp.symbols('A11 A12 A21 A22', real=True)\n",
    "A = sp.Matrix([\n",
    "    [A11, A12],\n",
    "    [A21, A22]\n",
    "])\n",
    "f_tr = (A.T * X).trace()\n",
    "print(f_tr)\n",
    "print()\n",
    "grad_list_2 = sp.derive_by_array(f_tr, var_X)\n",
    "print(grad_list_2)\n",
    "print()\n",
    "grad_mat_2 = sp.Matrix(grad_list_2).reshape(2, 2)\n",
    "print(grad_mat_2)"
   ]
  },
  {
   "cell_type": "code",
   "execution_count": 50,
   "id": "ee562c59-1b78-4ac2-a829-aec86178a95f",
   "metadata": {},
   "outputs": [
    {
     "name": "stdout",
     "output_type": "stream",
     "text": [
      "Matrix([[2*A11*X11 + A12*X21 + A21*X21, 2*A11*X12 + A12*X22 + A21*X22], [A12*X11 + A21*X11 + 2*A22*X21, A12*X12 + A21*X12 + 2*A22*X22]])\n"
     ]
    }
   ],
   "source": [
    "f_trXAX = (X.T * A * X).trace()\n",
    "grad_list_3 = sp.derive_by_array(f_trXAX, var_X)\n",
    "grad_mat_3 = sp.Matrix(grad_list_3).reshape(2, 2)\n",
    "print(grad_mat_3)"
   ]
  },
  {
   "cell_type": "code",
   "execution_count": 54,
   "id": "103846ca-a68f-49ff-9fe6-08fd47e5db62",
   "metadata": {},
   "outputs": [
    {
     "name": "stdout",
     "output_type": "stream",
     "text": [
      "Matrix([[2*X11, 2*X12], [2*X21, 2*X22]])\n"
     ]
    }
   ],
   "source": [
    "f_normX = (X.T*X).trace()\n",
    "grad_list_4 = sp.derive_by_array(f_normX, var_X)\n",
    "grad_mat_4 = sp.Matrix(grad_list_4).reshape(2, 2)\n",
    "print(grad_mat_4)"
   ]
  },
  {
   "cell_type": "code",
   "execution_count": 58,
   "id": "086eae91-e706-4ad7-b4d8-74fa56999ad9",
   "metadata": {},
   "outputs": [
    {
     "name": "stdout",
     "output_type": "stream",
     "text": [
      "Matrix([[2*A11*(A11*X11 + A12*X21 - B11) + 2*A21*(A21*X11 + A22*X21 - B21), 2*A11*(A11*X12 + A12*X22 - B12) + 2*A21*(A21*X12 + A22*X22 - B22)], [2*A12*(A11*X11 + A12*X21 - B11) + 2*A22*(A21*X11 + A22*X21 - B21), 2*A12*(A11*X12 + A12*X22 - B12) + 2*A22*(A21*X12 + A22*X22 - B22)]])\n"
     ]
    }
   ],
   "source": [
    "B11, B12, B21, B22 = sp.symbols('B11 B12 B21 B22', real=True)\n",
    "B = sp.Matrix([\n",
    "    [B11, B12],\n",
    "    [B21, B22]\n",
    "])\n",
    "f_AXB = (A*X - B)\n",
    "f_AXB_norm = (f_AXB.T * f_AXB).trace()\n",
    "grad_list_5 = sp.derive_by_array(f_AXB_norm, var_X)\n",
    "grad_mat_5 = sp.Matrix(grad_list_5).reshape(2, 2)\n",
    "print(grad_mat_5)"
   ]
  },
  {
   "cell_type": "code",
   "execution_count": 60,
   "id": "2430747a-c436-418c-bbee-40a544c64279",
   "metadata": {},
   "outputs": [
    {
     "name": "stdout",
     "output_type": "stream",
     "text": [
      "\n",
      "3) f(X) = a^T X b\n",
      "Gradient wrt X =\n",
      "⎡a₁⋅b₁  a₁⋅b₂  a₁⋅b₃⎤\n",
      "⎢                   ⎥\n",
      "⎣a₂⋅b₁  a₂⋅b₂  a₂⋅b₃⎦\n"
     ]
    }
   ],
   "source": [
    "X11, X12, X13 = sp.symbols('X11 X12 X13', real=True)\n",
    "X21, X22, X23 = sp.symbols('X21 X22 X23', real=True)\n",
    "X = sp.Matrix([\n",
    "    [X11, X12, X13],\n",
    "    [X21, X22, X23]\n",
    "])\n",
    "a1, a2 = sp.symbols('a1 a2', real=True)\n",
    "b1, b2, b3 = sp.symbols('b1 b2 b3', real=True)\n",
    "a_mat = sp.Matrix([a1, a2])\n",
    "b_mat = sp.Matrix([b1, b2, b3])\n",
    "f_expr_3 = a_mat.transpose() * X * b_mat \n",
    "vars_X = (X11, X12, X13, X21, X22, X23)\n",
    "grad_list_3 = sp.derive_by_array(f_expr_3[0], vars_X)\n",
    "grad_mat_3 = sp.Matrix(grad_list_3).reshape(2, 3)\n",
    "grad_mat_3_simpl = sp.simplify(grad_mat_3)\n",
    "print(\"\\n3) f(X) = a^T X b\")\n",
    "print(\"Gradient wrt X =\")\n",
    "sp.pprint(grad_mat_3_simpl)\n"
   ]
  },
  {
   "cell_type": "code",
   "execution_count": 62,
   "id": "d8d0bdf2-39a3-4528-9e44-1454651ebfdd",
   "metadata": {},
   "outputs": [
    {
     "name": "stdout",
     "output_type": "stream",
     "text": [
      "\n",
      "4) f(X) = trace(A^T X B)\n",
      "Gradient wrt X =\n",
      "⎡A₁₁⋅B₁₁ + A₁₂⋅B₁₂  A₁₁⋅B₂₁ + A₁₂⋅B₂₂⎤\n",
      "⎢                                    ⎥\n",
      "⎣A₂₁⋅B₁₁ + A₂₂⋅B₁₂  A₂₁⋅B₂₁ + A₂₂⋅B₂₂⎦\n"
     ]
    }
   ],
   "source": [
    "\n",
    "A11, A12, A21, A22 = sp.symbols('A11 A12 A21 A22', real=True)\n",
    "B11, B12, B21, B22 = sp.symbols('B11 B12 B21 B22', real=True)\n",
    "\n",
    "A_mat = sp.Matrix([[A11, A12],\n",
    "                   [A21, A22]])\n",
    "B_mat = sp.Matrix([[B11, B12],\n",
    "                   [B21, B22]])\n",
    "\n",
    "X11, X12, X21, X22 = sp.symbols('X11 X12 X21 X22', real=True)\n",
    "X_mat = sp.Matrix([[X11, X12],\n",
    "                   [X21, X22]])\n",
    "\n",
    "f_expr_4 = (A_mat.T * X_mat * B_mat).trace()\n",
    "\n",
    "vars_X_2x2 = (X11, X12, X21, X22)\n",
    "grad_list_4 = sp.derive_by_array(f_expr_4, vars_X_2x2)\n",
    "\n",
    "# reshape về 2x2\n",
    "grad_mat_4 = sp.Matrix(grad_list_4).reshape(2, 2)\n",
    "grad_mat_4_simpl = sp.simplify(grad_mat_4)\n",
    "\n",
    "print(\"\\n4) f(X) = trace(A^T X B)\")\n",
    "print(\"Gradient wrt X =\")\n",
    "sp.pprint(grad_mat_4_simpl)\n"
   ]
  },
  {
   "cell_type": "code",
   "execution_count": null,
   "id": "e6e474e8-08c5-4aa6-b301-1002543f7ab3",
   "metadata": {},
   "outputs": [],
   "source": []
  }
 ],
 "metadata": {
  "kernelspec": {
   "display_name": "Python [conda env:base] *",
   "language": "python",
   "name": "conda-base-py"
  },
  "language_info": {
   "codemirror_mode": {
    "name": "ipython",
    "version": 3
   },
   "file_extension": ".py",
   "mimetype": "text/x-python",
   "name": "python",
   "nbconvert_exporter": "python",
   "pygments_lexer": "ipython3",
   "version": "3.12.8"
  }
 },
 "nbformat": 4,
 "nbformat_minor": 5
}

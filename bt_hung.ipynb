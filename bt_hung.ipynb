{
 "cells": [
  {
   "cell_type": "code",
   "execution_count": 24,
   "id": "abc42ec1-76bf-462b-af17-1470fdb96827",
   "metadata": {},
   "outputs": [],
   "source": [
    "# chapter 1\n",
    "import numpy as np\n",
    "from hung import input_matrix,gauss_jordan_inverse,gram_schmidt\n",
    "# vd1:"
   ]
  },
  {
   "cell_type": "code",
   "execution_count": 19,
   "id": "ba14bf09-6bd4-45c7-8f06-d7e52a0c349d",
   "metadata": {},
   "outputs": [
    {
     "name": "stdout",
     "output_type": "stream",
     "text": [
      "Nhập kích thước ma trận vuông n x n:  4\n"
     ]
    },
    {
     "name": "stdout",
     "output_type": "stream",
     "text": [
      "Nhập từng dòng của ma trận, cách nhau bởi dấu cách:\n"
     ]
    },
    {
     "name": "stdout",
     "output_type": "stream",
     "text": [
      "Dòng 1:  -1 0 1 -1\n",
      "Dòng 2:  2 1 -3 4\n",
      "Dòng 3:  1 2 -2 8\n",
      "Dòng 4:  -2 0 2 1\n"
     ]
    },
    {
     "name": "stdout",
     "output_type": "stream",
     "text": [
      "Ma trận nghịch đảo của A là:\n",
      " [[-1.33333333 -2.          1.         -1.33333333]\n",
      " [ 2.33333333 -1.          1.         -1.66666667]\n",
      " [-1.         -2.          1.         -1.        ]\n",
      " [-0.66666667  0.          0.          0.33333333]]\n"
     ]
    }
   ],
   "source": [
    "try:\n",
    "    A = input_matrix()\n",
    "    A_inv = gauss_jordan_inverse(A)\n",
    "    print(\"Ma trận nghịch đảo của A là:\\n\", A_inv)\n",
    "except ValueError as e:\n",
    "    print(e)"
   ]
  },
  {
   "cell_type": "code",
   "execution_count": 15,
   "id": "437875a3-a3d9-4695-a0b9-b300f5467e89",
   "metadata": {},
   "outputs": [
    {
     "name": "stdout",
     "output_type": "stream",
     "text": [
      "Nhập kích thước ma trận vuông n x n:  4\n"
     ]
    },
    {
     "name": "stdout",
     "output_type": "stream",
     "text": [
      "Nhập từng dòng của ma trận, cách nhau bởi dấu cách:\n"
     ]
    },
    {
     "name": "stdout",
     "output_type": "stream",
     "text": [
      "Dòng 1:  1 1 1 1\n",
      "Dòng 2:  2 2 3 5\n",
      "Dòng 3:  3 3 4 5\n",
      "Dòng 4:  1 1 1 2\n"
     ]
    },
    {
     "name": "stdout",
     "output_type": "stream",
     "text": [
      "Ma trận không khả nghịch!\n"
     ]
    }
   ],
   "source": [
    "try:\n",
    "    B = input_matrix()\n",
    "    B_inv = gauss_jordan_inverse(B)\n",
    "    print(\"Ma trận nghịch đảo của A là:\\n\", B_inv)\n",
    "except ValueError as e:\n",
    "    print(e)"
   ]
  },
  {
   "cell_type": "code",
   "execution_count": 21,
   "id": "f0c3890e-a714-4877-ae97-eae7ceee2be5",
   "metadata": {},
   "outputs": [],
   "source": [
    "# vd2:\n",
    "A_T = A.T\n",
    "A_T_inv = gauss_jordan_inverse(A_T)"
   ]
  },
  {
   "cell_type": "code",
   "execution_count": 25,
   "id": "c3cd40d1-c314-4aef-95ff-621e935e5d20",
   "metadata": {},
   "outputs": [
    {
     "name": "stdout",
     "output_type": "stream",
     "text": [
      "X:\n",
      " [[ -4.66666667   0.66666667  -2.          -1.33333333]\n",
      " [ -8.33333333  -1.66666667 -11.           4.33333333]\n",
      " [-11.66666667   1.66666667 -12.           7.66666667]\n",
      " [ -7.          -1.          -2.           1.        ]]\n"
     ]
    }
   ],
   "source": [
    "print(\"X:\\n\",np.dot(B,A_T_inv) + A)"
   ]
  },
  {
   "cell_type": "code",
   "execution_count": 36,
   "id": "3c21caaf-83f5-457f-88c3-7a52de08ac95",
   "metadata": {},
   "outputs": [
    {
     "name": "stdout",
     "output_type": "stream",
     "text": [
      "Nhập kích thước ma trận vuông n x n:  2\n"
     ]
    },
    {
     "name": "stdout",
     "output_type": "stream",
     "text": [
      "Nhập từng dòng của ma trận, cách nhau bởi dấu cách:\n"
     ]
    },
    {
     "name": "stdout",
     "output_type": "stream",
     "text": [
      "Dòng 1:  1 0\n",
      "Dòng 2:  0 9\n"
     ]
    },
    {
     "name": "stdout",
     "output_type": "stream",
     "text": [
      "[[ 1.  0.]\n",
      " [ 0. 81.]]\n"
     ]
    }
   ],
   "source": [
    "import numpy as np\n",
    "# vd 3:\n",
    "A = input_matrix()\n",
    "k = 2\n",
    "print(A ** k)"
   ]
  },
  {
   "cell_type": "code",
   "execution_count": 46,
   "id": "d133d31f-fc08-4dac-87fb-8c88c14ac619",
   "metadata": {},
   "outputs": [
    {
     "name": "stdout",
     "output_type": "stream",
     "text": [
      "m != -2\n",
      "m != 1\n"
     ]
    }
   ],
   "source": [
    "import numpy as np\n",
    "#vd 4:\n",
    "from sympy import symbols , Matrix, det, solve\n",
    "m = symbols('m')\n",
    "A = Matrix([\n",
    "    [m +1 , 1 , 3],\n",
    "    [2,m+2,0],\n",
    "    [2*m,1,3]])\n",
    "det_A = det(A)\n",
    "hung = solve(det_A , m)\n",
    "for i in hung:\n",
    "    print(f'm != {i}')"
   ]
  },
  {
   "cell_type": "code",
   "execution_count": 33,
   "id": "a4449445-46c2-4a55-9a2d-84b490658de8",
   "metadata": {},
   "outputs": [
    {
     "name": "stdout",
     "output_type": "stream",
     "text": [
      "Nhập số chiều của vector:  3\n",
      "Nhập số lượng vector:  3\n"
     ]
    },
    {
     "name": "stdout",
     "output_type": "stream",
     "text": [
      "Nhập từng vector (các phần tử cách nhau bằng dấu cách):\n"
     ]
    },
    {
     "name": "stdout",
     "output_type": "stream",
     "text": [
      "Vector 1:  1 -1 1\n",
      "Vector 2:  -1 1 1\n",
      "Vector 3:  1 1 -1\n"
     ]
    },
    {
     "name": "stdout",
     "output_type": "stream",
     "text": [
      "\n",
      "Các vector trực chuẩn hóa:\n",
      "[[ 0.57735027 -0.57735027  0.57735027]\n",
      " [-0.40824829  0.40824829  0.81649658]\n",
      " [ 0.70710678  0.70710678  0.        ]]\n"
     ]
    }
   ],
   "source": [
    "# chapter 2\n",
    "# slide 22:\n",
    "import numpy as np\n",
    "# Nhập vector từ người dùng\n",
    "num_vectors = int(input(\"Nhập số chiều của vector: \"))\n",
    "vector_dim = int(input(\"Nhập số lượng vector: \"))\n",
    "\n",
    "vectors = []\n",
    "print(\"Nhập từng vector (các phần tử cách nhau bằng dấu cách):\")\n",
    "for i in range(num_vectors):\n",
    "    vector = list(map(float, input(f\"Vector {i+1}: \").split()))\n",
    "    if len(vector) != vector_dim:\n",
    "        print(\"Lỗi: Số phần tử không đúng, vui lòng nhập lại!\")\n",
    "        exit()\n",
    "    vectors.append(vector)\n",
    "# chuyển đổi sang numpy array và thực hiện Gram-Schimidt\n",
    "V = np.array(vectors).T  # Chuyển ma trận để mỗi cột là một vector\n",
    "\n",
    "# Áp dụng Gram-Schmidt\n",
    "U = gram_schmidt(V)\n",
    "\n",
    "print(\"\\nCác vector trực chuẩn hóa:\")\n",
    "print(U.T)  # Chuyển lại dạng vector ban đầu\n"
   ]
  },
  {
   "cell_type": "code",
   "execution_count": null,
   "id": "3e94503b-cb7f-43cd-b5bb-e67d77668617",
   "metadata": {},
   "outputs": [],
   "source": [
    "# slide 20"
   ]
  },
  {
   "cell_type": "code",
   "execution_count": 22,
   "id": "c8f135fe-14d0-47ca-8982-c5deccdcbdd2",
   "metadata": {},
   "outputs": [
    {
     "name": "stdout",
     "output_type": "stream",
     "text": [
      "[[1 0 1 1]\n",
      " [1 1 0 1]\n",
      " [1 1 1 0]\n",
      " [1 1 1 1]]\n",
      "[[1 0 0 1]\n",
      " [1 1 0 0]\n",
      " [0 1 1 0]\n",
      " [0 0 1 0]]\n",
      "B: 1.0\n",
      "S: -1.0\n",
      "Ta có ma trận chuyển cơ sở:\n",
      "[[ 1.  1.  0.  2.]\n",
      " [ 0.  0.  0. -1.]\n",
      " [ 1.  1.  1.  1.]\n",
      " [ 0. -1.  1. -1.]]\n",
      "Tọa độ vecto theo cơ sở B:\n",
      "[-9.  6.  4.  2.]\n"
     ]
    }
   ],
   "source": [
    "import numpy as np  \n",
    "\n",
    "B = [\n",
    "    [1, 1, 1, 1],\n",
    "    [0, 1, 1, 1],\n",
    "    [1, 0, 1, 1],\n",
    "    [1, 1, 0, 1]\n",
    "]\n",
    "\n",
    "S = [\n",
    "    [1, 1, 0, 0],\n",
    "    [0, 1, 1, 0],\n",
    "    [0, 0, 1, 1],\n",
    "    [1, 0, 0, 0]\n",
    "]\n",
    "B_matrix = np.array(B).T\n",
    "print(B_matrix)\n",
    "S_matrix = np.array(S).T\n",
    "print(S_matrix)\n",
    "det_B = np.linalg.det(B_matrix)\n",
    "det_S = np.linalg.det(S_matrix)\n",
    "print(f\"B: {det_B}\")\n",
    "print(f\"S: {det_S}\")\n",
    "\n",
    "\n",
    "P_S_from_B = np.linalg.inv(S_matrix) @ B_matrix\n",
    "print(\"Ta có ma trận chuyển cơ sở:\")\n",
    "print(P_S_from_B)\n",
    "print(\"Tọa độ vecto theo cơ sở B:\")\n",
    "print(np.linalg.inv(P_S_from_B) @ u_S)"
   ]
  },
  {
   "cell_type": "code",
   "execution_count": 12,
   "id": "259d0fe3",
   "metadata": {},
   "outputs": [
    {
     "name": "stdout",
     "output_type": "stream",
     "text": [
      "f là ánh xa 5 tuyến tính: True\n",
      "Anh cua f la: imf = span{(1,0),(0,1),(1,1)}\n",
      "kerf là: kerf = {(0,0)}\n",
      "\n",
      "hạng của f (rank): 2\n",
      " Số khuyết của f (nullity): 0\n"
     ]
    }
   ],
   "source": [
    "# slide 25\n",
    "import numpy as np  \n",
    "from hung import is_linear_mapping,find_image,find_kernel,rank_of_vectors\n",
    "A = np.array([\n",
    "    [1,0],\n",
    "    [0,1],\n",
    "    [1,1]])\n",
    "print('f là ánh xa 5 tuyến tính:',is_linear_mapping(A))\n",
    "print('Anh cua f la: imf = span{(1,0),(0,1),(1,1)}')\n",
    "print('kerf là: kerf = {(0,0)}')\n",
    "rank = np.linalg.matrix_rank(A)\n",
    "nullity = A.shape[1] - rank  # Số khuyết = số biến - hạng\n",
    "print(f\"\\nhạng của f (rank): {rank}\")\n",
    "print(f\" Số khuyết của f (nullity): {nullity}\")\n"
   ]
  },
  {
   "cell_type": "code",
   "execution_count": 14,
   "id": "4a2dcf05-a179-4f83-a3d7-9bbd31cea9ca",
   "metadata": {},
   "outputs": [
    {
     "name": "stdout",
     "output_type": "stream",
     "text": [
      "[[1. 0. 0.]\n",
      " [0. 0. 0.]\n",
      " [0. 0. 0.]] \n",
      "\n",
      "[[1. 2. 0.]\n",
      " [0. 0. 0.]\n",
      " [0. 0. 0.]] \n",
      "\n",
      "[[1. 2. 3.]\n",
      " [0. 0. 0.]\n",
      " [0. 0. 0.]] \n",
      "\n",
      "[[1. 2. 3.]\n",
      " [1. 0. 0.]\n",
      " [0. 0. 0.]] \n",
      "\n",
      "[[1. 2. 3.]\n",
      " [1. 3. 0.]\n",
      " [0. 0. 0.]] \n",
      "\n",
      "[[1. 2. 3.]\n",
      " [1. 3. 7.]\n",
      " [0. 0. 0.]] \n",
      "\n",
      "[[1. 2. 3.]\n",
      " [1. 3. 7.]\n",
      " [1. 0. 0.]] \n",
      "\n",
      "[[1. 2. 3.]\n",
      " [1. 3. 7.]\n",
      " [1. 4. 0.]] \n",
      "\n",
      "[[1. 2. 3.]\n",
      " [1. 3. 7.]\n",
      " [1. 4. 5.]] \n",
      "\n",
      "ta có ma trận A:\n",
      "[[1. 2. 3.]\n",
      " [1. 3. 7.]\n",
      " [1. 4. 5.]]\n",
      "Ker(f) có số chiều: 0\n",
      "Cơ sở của Ker(f):\n",
      " []\n"
     ]
    }
   ],
   "source": [
    "# slide 26\n",
    "import numpy as np\n",
    "\n",
    "# Giả sử ma trận A có kích thước m x n\n",
    "m = int(input('số hàng của ma trận là:'))\n",
    "n = int(input('số cột của ma trận là:'))\n",
    "A = np.zeros((m,n))\n",
    "for i in range(m):\n",
    "    for j in range(n):\n",
    "        A[i][j] = input(f'nhập phần tử hàng {i+1} cột {j+1} của ma trận A:')      \n",
    "        print(A, '\\n')\n",
    "print('ta có ma trận A:')\n",
    "print(A)\n",
    "# Tìm hạng của ma trận A\n",
    "rank = np.linalg.matrix_rank(A)\n",
    "\n",
    "# Số chiều của Ker(f)\n",
    "dim_ker = A.shape[1] - rank  # n - rank(A)\n",
    "\n",
    "# Tìm nghiệm của hệ Ax = 0 (sử dụng SVD)\n",
    "U, s, Vh = np.linalg.svd(A)\n",
    "null_space_basis = Vh[rank:].T\n",
    "\n",
    "print(\"Ker(f) có số chiều:\", dim_ker)\n",
    "print(\"Cơ sở của Ker(f):\\n\", null_space_basis)"
   ]
  },
  {
   "cell_type": "code",
   "execution_count": null,
   "id": "d55781b6",
   "metadata": {},
   "outputs": [],
   "source": []
  }
 ],
 "metadata": {
  "kernelspec": {
   "display_name": ".venv",
   "language": "python",
   "name": "python3"
  },
  "language_info": {
   "codemirror_mode": {
    "name": "ipython",
    "version": 3
   },
   "file_extension": ".py",
   "mimetype": "text/x-python",
   "name": "python",
   "nbconvert_exporter": "python",
   "pygments_lexer": "ipython3",
   "version": "3.12.9"
  }
 },
 "nbformat": 4,
 "nbformat_minor": 5
}

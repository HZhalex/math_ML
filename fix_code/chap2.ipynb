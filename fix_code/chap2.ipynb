{
 "cells": [
  {
   "cell_type": "code",
   "execution_count": 3,
   "id": "3f76b767-613a-4099-85c0-f8b0b605a37e",
   "metadata": {},
   "outputs": [],
   "source": [
    "import numpy as np\n",
    "from hung import input_matrix,gauss_jordan_inverse,gram_schmidt"
   ]
  },
  {
   "cell_type": "code",
   "execution_count": 5,
   "id": "80f7951b-f9f9-415d-90ec-099d8052567c",
   "metadata": {},
   "outputs": [
    {
     "name": "stdin",
     "output_type": "stream",
     "text": [
      "Nhập số chiều của vector:  3\n",
      "Nhập số lượng vector:  3\n"
     ]
    },
    {
     "name": "stdout",
     "output_type": "stream",
     "text": [
      "Nhập từng vector (các phần tử cách nhau bằng dấu cách):\n"
     ]
    },
    {
     "name": "stdin",
     "output_type": "stream",
     "text": [
      "Vector 1:  1 -1 1\n",
      "Vector 2:  -1 1 1\n",
      "Vector 3:  1 1 -1\n"
     ]
    },
    {
     "name": "stdout",
     "output_type": "stream",
     "text": [
      "\n",
      "Các vector trực chuẩn hóa:\n",
      "[[ 0.57735027 -0.57735027  0.57735027]\n",
      " [-0.40824829  0.40824829  0.81649658]\n",
      " [ 0.70710678  0.70710678  0.        ]]\n"
     ]
    }
   ],
   "source": [
    "# chapter 2\n",
    "# slide 22:\n",
    "import numpy as np\n",
    "# Nhập vector từ người dùng\n",
    "num_vectors = int(input(\"Nhập số chiều của vector: \"))\n",
    "vector_dim = int(input(\"Nhập số lượng vector: \"))\n",
    "\n",
    "vectors = []\n",
    "print(\"Nhập từng vector (các phần tử cách nhau bằng dấu cách):\")\n",
    "for i in range(num_vectors):\n",
    "    vector = list(map(float, input(f\"Vector {i+1}: \").split()))\n",
    "    if len(vector) != vector_dim:\n",
    "        print(\"Lỗi: Số phần tử không đúng, vui lòng nhập lại!\")\n",
    "        exit()\n",
    "    vectors.append(vector)\n",
    "# chuyển đổi sang numpy array và thực hiện Gram-Schimidt\n",
    "V = np.array(vectors).T  # Chuyển ma trận để mỗi cột là một vector\n",
    "\n",
    "# Áp dụng Gram-Schmidt\n",
    "U = gram_schmidt(V)\n",
    "\n",
    "print(\"\\nCác vector trực chuẩn hóa:\")\n",
    "print(U.T)  # Chuyển lại dạng vector ban đầu\n"
   ]
  },
  {
   "cell_type": "code",
   "execution_count": 19,
   "id": "6fea618d-a0d0-4be3-8256-ce99eb38ef53",
   "metadata": {},
   "outputs": [
    {
     "name": "stdout",
     "output_type": "stream",
     "text": [
      "[[1 0 1 1]\n",
      " [1 1 0 1]\n",
      " [1 1 1 0]\n",
      " [1 1 1 1]]\n",
      "[[1 0 0 1]\n",
      " [1 1 0 0]\n",
      " [0 1 1 0]\n",
      " [0 0 1 0]]\n",
      "B: 1.0\n",
      "S: -1.0\n",
      "Ta có ma trận chuyển cơ sở:\n",
      "[[ 1.  1.  0.  2.]\n",
      " [ 0.  0.  0. -1.]\n",
      " [ 1.  1.  1.  1.]\n",
      " [ 0. -1.  1. -1.]]\n",
      "Tọa độ vecto theo cơ sở B:\n",
      "[-9.  6.  4.  2.]\n"
     ]
    }
   ],
   "source": [
    "# slide 20\n",
    "import numpy as np  \n",
    "\n",
    "B = [\n",
    "    [1, 1, 1, 1],\n",
    "    [0, 1, 1, 1],\n",
    "    [1, 0, 1, 1],\n",
    "    [1, 1, 0, 1]\n",
    "]\n",
    "\n",
    "S = [\n",
    "    [1, 1, 0, 0],\n",
    "    [0, 1, 1, 0],\n",
    "    [0, 0, 1, 1],\n",
    "    [1, 0, 0, 0]\n",
    "]\n",
    "B_matrix = np.array(B).T\n",
    "print(B_matrix)\n",
    "S_matrix = np.array(S).T\n",
    "print(S_matrix)\n",
    "det_B = np.linalg.det(B_matrix)\n",
    "det_S = np.linalg.det(S_matrix)\n",
    "print(f\"B: {det_B}\")\n",
    "print(f\"S: {det_S}\")\n",
    "u_S = np.array([1,-2,3,-4])\n",
    "\n",
    "P_S_from_B = np.linalg.inv(S_matrix) @ B_matrix\n",
    "print(\"Ta có ma trận chuyển cơ sở:\")\n",
    "print(P_S_from_B)\n",
    "print(\"Tọa độ vecto theo cơ sở B:\")\n",
    "print(np.linalg.inv(P_S_from_B) @ u_S)"
   ]
  },
  {
   "cell_type": "code",
   "execution_count": 21,
   "id": "abb628fc-7743-4f74-9568-5cf9b8ba362a",
   "metadata": {},
   "outputs": [
    {
     "name": "stdout",
     "output_type": "stream",
     "text": [
      "f là ánh xa 5 tuyến tính: True\n",
      "Anh cua f la: imf = span{(1,0),(0,1),(1,1)}\n",
      "kerf là: kerf = {(0,0)}\n",
      "\n",
      "hạng của f (rank): 2\n",
      " Số khuyết của f (nullity): 0\n"
     ]
    }
   ],
   "source": [
    "# slide 25\n",
    "import numpy as np  \n",
    "from hung import is_linear_mapping,find_image,find_kernel,rank_of_vectors\n",
    "A = np.array([\n",
    "    [1,0],\n",
    "    [0,1],\n",
    "    [1,1]])\n",
    "print('f là ánh xa 5 tuyến tính:',is_linear_mapping(A))\n",
    "print('Anh cua f la: imf = span{(1,0),(0,1),(1,1)}')\n",
    "print('kerf là: kerf = {(0,0)}')\n",
    "rank = np.linalg.matrix_rank(A)\n",
    "nullity = A.shape[1] - rank  # Số khuyết = số biến - hạng\n",
    "print(f\"\\nhạng của f (rank): {rank}\")\n",
    "print(f\" Số khuyết của f (nullity): {nullity}\")\n"
   ]
  },
  {
   "cell_type": "code",
   "execution_count": 25,
   "id": "bae8bbe3-de84-44cf-b8ba-420ef86303f2",
   "metadata": {},
   "outputs": [
    {
     "name": "stdin",
     "output_type": "stream",
     "text": [
      "số hàng của ma trận là: 3\n",
      "số cột của ma trận là: 3\n",
      "nhập phần tử hàng 1 cột 1 của ma trận A: 1\n"
     ]
    },
    {
     "name": "stdout",
     "output_type": "stream",
     "text": [
      "[[1. 0. 0.]\n",
      " [0. 0. 0.]\n",
      " [0. 0. 0.]] \n",
      "\n"
     ]
    },
    {
     "name": "stdin",
     "output_type": "stream",
     "text": [
      "nhập phần tử hàng 1 cột 2 của ma trận A: 2\n"
     ]
    },
    {
     "name": "stdout",
     "output_type": "stream",
     "text": [
      "[[1. 2. 0.]\n",
      " [0. 0. 0.]\n",
      " [0. 0. 0.]] \n",
      "\n"
     ]
    },
    {
     "name": "stdin",
     "output_type": "stream",
     "text": [
      "nhập phần tử hàng 1 cột 3 của ma trận A: 3\n"
     ]
    },
    {
     "name": "stdout",
     "output_type": "stream",
     "text": [
      "[[1. 2. 3.]\n",
      " [0. 0. 0.]\n",
      " [0. 0. 0.]] \n",
      "\n"
     ]
    },
    {
     "name": "stdin",
     "output_type": "stream",
     "text": [
      "nhập phần tử hàng 2 cột 1 của ma trận A: 1\n"
     ]
    },
    {
     "name": "stdout",
     "output_type": "stream",
     "text": [
      "[[1. 2. 3.]\n",
      " [1. 0. 0.]\n",
      " [0. 0. 0.]] \n",
      "\n"
     ]
    },
    {
     "name": "stdin",
     "output_type": "stream",
     "text": [
      "nhập phần tử hàng 2 cột 2 của ma trận A: 3\n"
     ]
    },
    {
     "name": "stdout",
     "output_type": "stream",
     "text": [
      "[[1. 2. 3.]\n",
      " [1. 3. 0.]\n",
      " [0. 0. 0.]] \n",
      "\n"
     ]
    },
    {
     "name": "stdin",
     "output_type": "stream",
     "text": [
      "nhập phần tử hàng 2 cột 3 của ma trận A: 7\n"
     ]
    },
    {
     "name": "stdout",
     "output_type": "stream",
     "text": [
      "[[1. 2. 3.]\n",
      " [1. 3. 7.]\n",
      " [0. 0. 0.]] \n",
      "\n"
     ]
    },
    {
     "name": "stdin",
     "output_type": "stream",
     "text": [
      "nhập phần tử hàng 3 cột 1 của ma trận A: 1\n"
     ]
    },
    {
     "name": "stdout",
     "output_type": "stream",
     "text": [
      "[[1. 2. 3.]\n",
      " [1. 3. 7.]\n",
      " [1. 0. 0.]] \n",
      "\n"
     ]
    },
    {
     "name": "stdin",
     "output_type": "stream",
     "text": [
      "nhập phần tử hàng 3 cột 2 của ma trận A: 4\n"
     ]
    },
    {
     "name": "stdout",
     "output_type": "stream",
     "text": [
      "[[1. 2. 3.]\n",
      " [1. 3. 7.]\n",
      " [1. 4. 0.]] \n",
      "\n"
     ]
    },
    {
     "name": "stdin",
     "output_type": "stream",
     "text": [
      "nhập phần tử hàng 3 cột 3 của ma trận A: 5\n"
     ]
    },
    {
     "name": "stdout",
     "output_type": "stream",
     "text": [
      "[[1. 2. 3.]\n",
      " [1. 3. 7.]\n",
      " [1. 4. 5.]] \n",
      "\n",
      "ta có ma trận A:\n",
      "[[1. 2. 3.]\n",
      " [1. 3. 7.]\n",
      " [1. 4. 5.]]\n",
      "Ker(f) có số chiều: 0\n",
      "Cơ sở của Ker(f):\n",
      " []\n"
     ]
    }
   ],
   "source": [
    "# slide 26\n",
    "import numpy as np\n",
    "\n",
    "# Giả sử ma trận A có kích thước m x n\n",
    "m = int(input('số hàng của ma trận là:'))\n",
    "n = int(input('số cột của ma trận là:'))\n",
    "A = np.zeros((m,n))\n",
    "for i in range(m):\n",
    "    for j in range(n):\n",
    "        A[i][j] = input(f'nhập phần tử hàng {i+1} cột {j+1} của ma trận A:')      \n",
    "        print(A, '\\n')\n",
    "print('ta có ma trận A:')\n",
    "print(A)\n",
    "# Tìm hạng của ma trận A\n",
    "rank = np.linalg.matrix_rank(A)\n",
    "\n",
    "# Số chiều của Ker(f)\n",
    "dim_ker = A.shape[1] - rank  # n - rank(A)\n",
    "\n",
    "# Tìm nghiệm của hệ Ax = 0 (sử dụng SVD)\n",
    "U, s, Vh = np.linalg.svd(A)\n",
    "null_space_basis = Vh[rank:].T\n",
    "\n",
    "print(\"Ker(f) có số chiều:\", dim_ker)\n",
    "print(\"Cơ sở của Ker(f):\\n\", null_space_basis)"
   ]
  },
  {
   "cell_type": "code",
   "execution_count": 27,
   "id": "aa46f28c-9c79-44c7-bc76-d082fcb781a2",
   "metadata": {},
   "outputs": [
    {
     "name": "stdout",
     "output_type": "stream",
     "text": [
      "Trị riêng: [0.+1.j 0.-1.j]\n",
      "\n",
      "Véc tơ riêng tương ứng (cột):\n",
      " [[0.91287093+0.j         0.91287093-0.j        ]\n",
      " [0.36514837+0.18257419j 0.36514837-0.18257419j]]\n"
     ]
    }
   ],
   "source": [
    "# slide 37:\n",
    "import numpy as np\n",
    "A = np.array([[-2, 5],\n",
    "              [-1, 2]])\n",
    "tri_rieng, vt_rieng = np.linalg.eig(A)\n",
    "print(\"Trị riêng:\", tri_rieng)\n",
    "print(\"\\nVéc tơ riêng tương ứng (cột):\\n\",vt_rieng)"
   ]
  },
  {
   "cell_type": "code",
   "execution_count": 29,
   "id": "88917b35-3be8-4556-b18b-28dd76a3c65c",
   "metadata": {},
   "outputs": [
    {
     "name": "stdout",
     "output_type": "stream",
     "text": [
      "Các trị riêng: [5. 1. 5.]\n",
      "Các vectơ riêng tương ứng (cột):\n",
      " [[ 0.70710678  0.70710678  0.        ]\n",
      " [-0.70710678  0.70710678  0.        ]\n",
      " [ 0.          0.          1.        ]]\n"
     ]
    }
   ],
   "source": [
    "# slide 38:\n",
    "import numpy as np\n",
    "B = np.array([\n",
    "    [3, -2, 0],\n",
    "    [-2, 3, 0],\n",
    "    [0, 0, 5]\n",
    "])\n",
    "tri_rieng, vt_rieng = np.linalg.eig(B)\n",
    "print(\"Các trị riêng:\", tri_rieng)\n",
    "print(\"Các vectơ riêng tương ứng (cột):\\n\", vt_rieng)"
   ]
  },
  {
   "cell_type": "code",
   "execution_count": null,
   "id": "3c3ebea7-f14b-4a8c-8e04-5e71c9800dd1",
   "metadata": {},
   "outputs": [],
   "source": []
  }
 ],
 "metadata": {
  "kernelspec": {
   "display_name": "Python [conda env:base] *",
   "language": "python",
   "name": "conda-base-py"
  },
  "language_info": {
   "codemirror_mode": {
    "name": "ipython",
    "version": 3
   },
   "file_extension": ".py",
   "mimetype": "text/x-python",
   "name": "python",
   "nbconvert_exporter": "python",
   "pygments_lexer": "ipython3",
   "version": "3.12.8"
  }
 },
 "nbformat": 4,
 "nbformat_minor": 5
}

{
 "cells": [
  {
   "cell_type": "code",
   "execution_count": 1,
   "id": "9667f3f2-afbc-4d9b-bb2f-c8e2d4473dd1",
   "metadata": {},
   "outputs": [
    {
     "name": "stdout",
     "output_type": "stream",
     "text": [
      "a) Cổ phiếu: E(X) = 9.00%, σ_X = 9.43%\n",
      "b) Trái phiếu: E(Y) = 8.00%, σ_Y = 1.26%\n",
      "c) Tỷ lệ tối ưu: w = 1.0, 1-w = 0.0\n",
      "d) Tỷ lệ tối ưu: w = 0.09, 1-w = 0.91\n"
     ]
    }
   ],
   "source": [
    "# chapter 4\n",
    "# Bài tập ví dụ 16:\n",
    "import numpy as np\n",
    "from scipy.optimize import minimize_scalar\n",
    "x_values = [-10, 0, 10, 20]\n",
    "y_values = [6, 8, 10]\n",
    "\n",
    "prob_table = np.array([\n",
    "    [0.0, 0.0, 0.1],   \n",
    "    [0.0, 0.1, 0.1],  \n",
    "    [0.1, 0.3, 0.0],   \n",
    "    [0.1, 0.2, 0.0]   \n",
    "])\n",
    "\n",
    "p_x = prob_table.sum(axis=1)\n",
    "E_X = sum(x * p for x, p in zip(x_values, p_x))\n",
    "E_X2 = sum(x**2 * p for x, p in zip(x_values, p_x))\n",
    "std_X = np.sqrt(E_X2 - E_X**2)\n",
    "\n",
    "p_y = prob_table.sum(axis=0)\n",
    "E_Y = sum(y * p for y, p in zip(y_values, p_y))\n",
    "E_Y2 = sum(y**2 * p for y, p in zip(y_values, p_y))\n",
    "std_Y = np.sqrt(E_Y2 - E_Y**2)\n",
    "\n",
    "print(f\"a) Cổ phiếu: E(X) = {E_X:.2f}%, σ_X = {std_X:.2f}%\")\n",
    "print(f\"b) Trái phiếu: E(Y) = {E_Y:.2f}%, σ_Y = {std_Y:.2f}%\")\n",
    "\n",
    "cov_xy = 0\n",
    "for i in range(len(x_values)):\n",
    "    for j in range(len(y_values)):\n",
    "        cov_xy += x_values[i] * y_values[j] * prob_table[i][j]\n",
    "cov_xy -= E_X * E_Y\n",
    "\n",
    "w_c = 1.0 if E_X > E_Y else 0.0\n",
    "print(f\"c) Tỷ lệ tối ưu: w = {w_c}, 1-w = {1 - w_c}\")\n",
    "\n",
    "def risk(w):\n",
    "    var = w**2 * std_X**2 + (1 - w)**2 * std_Y**2 + 2 * w * (1 - w) * cov_xy\n",
    "    return np.sqrt(var)\n",
    "\n",
    "res = minimize_scalar(risk, bounds=(0, 1), method='bounded')\n",
    "w_d = res.x\n",
    "print(f\"d) Tỷ lệ tối ưu: w = {w_d:.2f}, 1-w = {1 - w_d:.2f}\")"
   ]
  },
  {
   "cell_type": "code",
   "execution_count": null,
   "id": "797bbb87-b51a-41cd-8096-7f2c855a9775",
   "metadata": {},
   "outputs": [],
   "source": []
  }
 ],
 "metadata": {
  "kernelspec": {
   "display_name": "Python [conda env:base] *",
   "language": "python",
   "name": "conda-base-py"
  },
  "language_info": {
   "codemirror_mode": {
    "name": "ipython",
    "version": 3
   },
   "file_extension": ".py",
   "mimetype": "text/x-python",
   "name": "python",
   "nbconvert_exporter": "python",
   "pygments_lexer": "ipython3",
   "version": "3.12.8"
  }
 },
 "nbformat": 4,
 "nbformat_minor": 5
}

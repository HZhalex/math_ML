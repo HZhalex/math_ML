{
 "cells": [
  {
   "cell_type": "code",
   "execution_count": 1,
   "id": "654b2ba6-a8c0-4771-865a-40be336e81bf",
   "metadata": {},
   "outputs": [],
   "source": [
    "# chapter 1\n",
    "import numpy as np\n",
    "from hung import input_matrix,gauss_jordan_inverse,gram_schmidt\n",
    "# vd1:"
   ]
  },
  {
   "cell_type": "code",
   "execution_count": 12,
   "id": "7854107f-79e1-408b-ac2a-400fadf17432",
   "metadata": {},
   "outputs": [
    {
     "name": "stdin",
     "output_type": "stream",
     "text": [
      "Nhập kích thước ma trận vuông n x n:  4\n"
     ]
    },
    {
     "name": "stdout",
     "output_type": "stream",
     "text": [
      "Nhập từng dòng của ma trận, cách nhau bởi dấu cách:\n"
     ]
    },
    {
     "name": "stdin",
     "output_type": "stream",
     "text": [
      "Dòng 1:  -1 0 1 -1\n",
      "Dòng 2:  2 1 -3 4\n",
      "Dòng 3:  1 2 -2 8\n",
      "Dòng 4:  -2 0 2 1\n"
     ]
    },
    {
     "name": "stdout",
     "output_type": "stream",
     "text": [
      "Ma trận nghịch đảo của A là:\n",
      " [[-1.33333333 -2.          1.         -1.33333333]\n",
      " [ 2.33333333 -1.          1.         -1.66666667]\n",
      " [-1.         -2.          1.         -1.        ]\n",
      " [-0.66666667  0.          0.          0.33333333]]\n"
     ]
    }
   ],
   "source": [
    "try:\n",
    "    A = input_matrix()\n",
    "    A_inv = gauss_jordan_inverse(A)\n",
    "    print(\"Ma trận nghịch đảo của A là:\\n\", A_inv)\n",
    "except ValueError as e:\n",
    "    print(e)"
   ]
  },
  {
   "cell_type": "code",
   "execution_count": 16,
   "id": "772a9be5-5ca4-4608-a294-1950a9315e5f",
   "metadata": {},
   "outputs": [
    {
     "name": "stdin",
     "output_type": "stream",
     "text": [
      "Nhập kích thước ma trận vuông n x n:  4\n"
     ]
    },
    {
     "name": "stdout",
     "output_type": "stream",
     "text": [
      "Nhập từng dòng của ma trận, cách nhau bởi dấu cách:\n"
     ]
    },
    {
     "name": "stdin",
     "output_type": "stream",
     "text": [
      "Dòng 1:  1 1 1 1\n",
      "Dòng 2:  2 2 3 5\n",
      "Dòng 3:  3 3 4 5\n",
      "Dòng 4:  1 1 1 2\n"
     ]
    },
    {
     "name": "stdout",
     "output_type": "stream",
     "text": [
      "Ma trận không khả nghịch!\n"
     ]
    }
   ],
   "source": [
    "try:\n",
    "    B = input_matrix()\n",
    "    B_inv = gauss_jordan_inverse(B)\n",
    "    print(\"Ma trận nghịch đảo của A là:\\n\", B_inv)\n",
    "except ValueError as e:\n",
    "    print(e)"
   ]
  },
  {
   "cell_type": "code",
   "execution_count": 18,
   "id": "161645bb-4cb1-4f1d-a7cf-cc62ecdfbcbe",
   "metadata": {},
   "outputs": [],
   "source": [
    "# vd2:\n",
    "A_T = A.T\n",
    "A_T_inv = gauss_jordan_inverse(A_T)"
   ]
  },
  {
   "cell_type": "code",
   "execution_count": 20,
   "id": "4b43bebd-6d43-4a53-97eb-7d967264cda2",
   "metadata": {},
   "outputs": [
    {
     "name": "stdout",
     "output_type": "stream",
     "text": [
      "X:\n",
      " [[ -4.66666667   0.66666667  -2.          -1.33333333]\n",
      " [ -8.33333333  -1.66666667 -11.           4.33333333]\n",
      " [-11.66666667   1.66666667 -12.           7.66666667]\n",
      " [ -7.          -1.          -2.           1.        ]]\n"
     ]
    }
   ],
   "source": [
    "print(\"X:\\n\",np.dot(B,A_T_inv) + A)"
   ]
  },
  {
   "cell_type": "code",
   "execution_count": 24,
   "id": "e08fdff1-4105-4b18-b313-f352324f3991",
   "metadata": {},
   "outputs": [
    {
     "name": "stdin",
     "output_type": "stream",
     "text": [
      "Nhập kích thước ma trận vuông n x n:  2\n"
     ]
    },
    {
     "name": "stdout",
     "output_type": "stream",
     "text": [
      "Nhập từng dòng của ma trận, cách nhau bởi dấu cách:\n"
     ]
    },
    {
     "name": "stdin",
     "output_type": "stream",
     "text": [
      "Dòng 1:  1 0\n",
      "Dòng 2:  0 9\n"
     ]
    },
    {
     "name": "stdout",
     "output_type": "stream",
     "text": [
      "[[  1.   0.]\n",
      " [  0. 729.]]\n"
     ]
    }
   ],
   "source": [
    "import numpy as np\n",
    "# vd 3:\n",
    "A = input_matrix()\n",
    "k = 3\n",
    "print(A ** k)"
   ]
  },
  {
   "cell_type": "code",
   "execution_count": 29,
   "id": "83433079-09f5-4dbe-aedc-cc4b3a8578ec",
   "metadata": {},
   "outputs": [
    {
     "name": "stdout",
     "output_type": "stream",
     "text": [
      "m != -2\n",
      "m != 1\n"
     ]
    }
   ],
   "source": [
    "import numpy as np\n",
    "#vd 4:\n",
    "from sympy import symbols , Matrix, det, solve\n",
    "m = symbols('m')\n",
    "A = Matrix([\n",
    "    [m +1 , 1 , 3],\n",
    "    [2,m+2,0],\n",
    "    [2*m,1,3]])\n",
    "det_A = det(A)\n",
    "hung = solve(det_A , m)\n",
    "for i in hung:\n",
    "    print(f'm != {i}')"
   ]
  },
  {
   "cell_type": "code",
   "execution_count": null,
   "id": "18013238-6f25-45cd-a4a9-45c94ab1796b",
   "metadata": {},
   "outputs": [],
   "source": []
  },
  {
   "cell_type": "code",
   "execution_count": null,
   "id": "8f7b90d4-941d-4261-a16c-09ac4440d33b",
   "metadata": {},
   "outputs": [],
   "source": []
  }
 ],
 "metadata": {
  "kernelspec": {
   "display_name": "Python [conda env:base] *",
   "language": "python",
   "name": "conda-base-py"
  },
  "language_info": {
   "codemirror_mode": {
    "name": "ipython",
    "version": 3
   },
   "file_extension": ".py",
   "mimetype": "text/x-python",
   "name": "python",
   "nbconvert_exporter": "python",
   "pygments_lexer": "ipython3",
   "version": "3.12.8"
  }
 },
 "nbformat": 4,
 "nbformat_minor": 5
}

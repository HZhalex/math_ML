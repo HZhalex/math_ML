{
 "cells": [
  {
   "cell_type": "code",
   "execution_count": 1,
   "id": "8cf4a5cf-a8b7-47f1-b2d3-406b512f1015",
   "metadata": {},
   "outputs": [
    {
     "name": "stdout",
     "output_type": "stream",
     "text": [
      "f_vec = Matrix([[x1], [x2], [x3]])\n",
      "Jacobian =\n",
      "Matrix([[1, 0, 0], [0, 1, 0], [0, 0, 1]])\n"
     ]
    }
   ],
   "source": [
    "# chapter 3\n",
    "import sympy as sp\n",
    "x1, x2, x3 = sp.symbols('x1 x2 x3', real=True)\n",
    "f_vec = sp.Matrix([x1, x2, x3])\n",
    "print(\"f_vec =\",f_vec)\n",
    "J = f_vec.jacobian([x1, x2, x3])\n",
    "print(\"Jacobian =\")\n",
    "print(J)"
   ]
  },
  {
   "cell_type": "code",
   "execution_count": 3,
   "id": "eecba769-2f3a-4402-aaee-d5964a26b840",
   "metadata": {},
   "outputs": [
    {
     "name": "stdout",
     "output_type": "stream",
     "text": [
      "Gradient [a1, a2, a3]\n"
     ]
    }
   ],
   "source": [
    "a1, a2, a3 = sp.symbols('a1 a2 a3', real=True)\n",
    "a = sp.Matrix([a1, a2, a3])\n",
    "x = sp.Matrix([x1, x2, x3])\n",
    "# f(x) = a^T x = a1*x1 + a2*x2 + a3*x3\n",
    "f = a.dot(x)\n",
    "grad_f = sp.derive_by_array(f, (x1, x2, x3))\n",
    "print(\"Gradient\", grad_f)"
   ]
  },
  {
   "cell_type": "code",
   "execution_count": 5,
   "id": "53e0ecde-f0e9-424b-98cc-202a2c84fb10",
   "metadata": {},
   "outputs": [
    {
     "name": "stdout",
     "output_type": "stream",
     "text": [
      "Matrix([[x1*(A11*x1 + A21*x2 + A31*x3) + x2*(A12*x1 + A22*x2 + A32*x3) + x3*(A13*x1 + A23*x2 + A33*x3)]])\n",
      "\n",
      "x1*(A11*x1 + A21*x2 + A31*x3) + x2*(A12*x1 + A22*x2 + A32*x3) + x3*(A13*x1 + A23*x2 + A33*x3)\n",
      "\n",
      "Gradient \n",
      " [2*A11*x1 + A12*x2 + A13*x3 + A21*x2 + A31*x3, A12*x1 + A21*x1 + 2*A22*x2 + A23*x3 + A32*x3, A13*x1 + A23*x2 + A31*x1 + A32*x2 + 2*A33*x3]\n"
     ]
    }
   ],
   "source": [
    "A11, A12, A13 = sp.symbols('A11 A12 A13', real=True)\n",
    "A21, A22, A23 = sp.symbols('A21 A22 A23', real=True)\n",
    "A31, A32, A33 = sp.symbols('A31 A32 A33', real=True)\n",
    "A = sp.Matrix([\n",
    "    [A11, A12, A13],\n",
    "    [A21, A22, A23],\n",
    "    [A31, A32, A33]\n",
    "])\n",
    "f = (x.transpose() * A * x)\n",
    "print(f)\n",
    "print()\n",
    "f = (x.transpose() * A * x)[0]\n",
    "print(f)\n",
    "print()\n",
    "grad_f = sp.derive_by_array(f, (x1, x2, x3))\n",
    "print(\"Gradient \\n\", grad_f)"
   ]
  },
  {
   "cell_type": "code",
   "execution_count": 7,
   "id": "42673add-623d-4d80-a272-767b06fc8192",
   "metadata": {},
   "outputs": [
    {
     "name": "stdout",
     "output_type": "stream",
     "text": [
      "Gradient [2*x1, 2*x2, 2*x3]\n"
     ]
    }
   ],
   "source": [
    "f = x.dot(x)\n",
    "grad_f = sp.derive_by_array(f, (x1, x2, x3))\n",
    "print(\"Gradient\", grad_f)"
   ]
  },
  {
   "cell_type": "code",
   "execution_count": 9,
   "id": "ac496eb7-cdcd-4793-9a11-12e5298cd63f",
   "metadata": {},
   "outputs": [
    {
     "name": "stdout",
     "output_type": "stream",
     "text": [
      "Gradient \n",
      " [2*A11*(A11*x1 + A12*x2 + A13*x3 - b1) + 2*A21*(A21*x1 + A22*x2 + A23*x3 - b2) + 2*A31*(A31*x1 + A32*x2 + A33*x3 - b3), 2*A12*(A11*x1 + A12*x2 + A13*x3 - b1) + 2*A22*(A21*x1 + A22*x2 + A23*x3 - b2) + 2*A32*(A31*x1 + A32*x2 + A33*x3 - b3), 2*A13*(A11*x1 + A12*x2 + A13*x3 - b1) + 2*A23*(A21*x1 + A22*x2 + A23*x3 - b2) + 2*A33*(A31*x1 + A32*x2 + A33*x3 - b3)]\n"
     ]
    }
   ],
   "source": [
    "b1, b2, b3 = sp.symbols('b1 b2 b3', real=True)\n",
    "b = sp.Matrix([b1, b2, b3])\n",
    "f = (A*x - b).dot(A*x - b) \n",
    "grad_f = sp.derive_by_array(f, (x1, x2, x3))\n",
    "print(\"Gradient \\n\", grad_f)"
   ]
  },
  {
   "cell_type": "code",
   "execution_count": 11,
   "id": "b6a10c91-c8ee-40b0-af22-9c063ab329db",
   "metadata": {},
   "outputs": [
    {
     "name": "stdout",
     "output_type": "stream",
     "text": [
      "Gradient: [2*x1*(a1*b1 + a2*b2 + a3*b3), 2*x2*(a1*b1 + a2*b2 + a3*b3), 2*x3*(a1*b1 + a2*b2 + a3*b3)]\n"
     ]
    }
   ],
   "source": [
    "x = sp.symbols('x1 x2 x3', real=True)\n",
    "x_vec = sp.Matrix(x)\n",
    "a = sp.symbols('a1 a2 a3', real=True)\n",
    "b = sp.symbols('b1 b2 b3', real=True)\n",
    "a_vec = sp.Matrix(a)\n",
    "b_vec = sp.Matrix(b)\n",
    "f_expr = a_vec.dot(b_vec) * x_vec.dot(x_vec)\n",
    "grad_f = sp.derive_by_array(f_expr, x)\n",
    "print(\"Gradient:\", grad_f)"
   ]
  },
  {
   "cell_type": "code",
   "execution_count": 13,
   "id": "ce69383d-a4f0-4138-b4f4-ba5f05996aac",
   "metadata": {},
   "outputs": [
    {
     "name": "stdout",
     "output_type": "stream",
     "text": [
      "Gradient: [a1*(b1*x1 + b2*x2 + b3*x3) + b1*(a1*x1 + a2*x2 + a3*x3), a2*(b1*x1 + b2*x2 + b3*x3) + b2*(a1*x1 + a2*x2 + a3*x3), a3*(b1*x1 + b2*x2 + b3*x3) + b3*(a1*x1 + a2*x2 + a3*x3)]\n"
     ]
    }
   ],
   "source": [
    "f_expr_2 = (a_vec.dot(x_vec)) * (x_vec.dot(b_vec))\n",
    "grad_f_2 = sp.derive_by_array(f_expr_2, x)\n",
    "print(\"Gradient:\", grad_f_2)"
   ]
  },
  {
   "cell_type": "code",
   "execution_count": 15,
   "id": "7d700ad1-79e7-426f-8ca5-a78da62f9b29",
   "metadata": {},
   "outputs": [],
   "source": [
    "# trang ben canh (next side)"
   ]
  },
  {
   "cell_type": "code",
   "execution_count": 17,
   "id": "72bf7bdb-74e0-419a-9adb-ad83ebed138b",
   "metadata": {},
   "outputs": [
    {
     "name": "stdout",
     "output_type": "stream",
     "text": [
      "X11 + X22\n",
      "[1, 0, 0, 1]\n",
      "Matrix([[1, 0], [0, 1]])\n"
     ]
    }
   ],
   "source": [
    "import sympy as sp\n",
    "X11, X12, X21, X22 = sp.symbols('X11 X12 X21 X22', real=True)\n",
    "X = sp.Matrix([\n",
    "    [X11, X12],\n",
    "    [X21, X22]\n",
    "])\n",
    "f_trace = X.trace()\n",
    "print(f_trace)\n",
    "var_X = (X11, X12, X21, X22)\n",
    "grad_list = sp.derive_by_array(f_trace, var_X)\n",
    "print(grad_list)\n",
    "grad_mat = sp.Matrix(grad_list).reshape(2, 2)\n",
    "print(grad_mat)"
   ]
  },
  {
   "cell_type": "code",
   "execution_count": 19,
   "id": "a448bbd5-5593-4832-8a72-6c9761a4eae4",
   "metadata": {},
   "outputs": [
    {
     "name": "stdout",
     "output_type": "stream",
     "text": [
      "A11*X11 + A12*X12 + A21*X21 + A22*X22\n",
      "\n",
      "[A11, A12, A21, A22]\n",
      "\n",
      "Matrix([[A11, A12], [A21, A22]])\n"
     ]
    }
   ],
   "source": [
    "A11, A12, A21, A22 = sp.symbols('A11 A12 A21 A22', real=True)\n",
    "A = sp.Matrix([\n",
    "    [A11, A12],\n",
    "    [A21, A22]\n",
    "])\n",
    "f_tr = (A.T * X).trace()\n",
    "print(f_tr)\n",
    "print()\n",
    "grad_list_2 = sp.derive_by_array(f_tr, var_X)\n",
    "print(grad_list_2)\n",
    "print()\n",
    "grad_mat_2 = sp.Matrix(grad_list_2).reshape(2, 2)\n",
    "print(grad_mat_2)"
   ]
  },
  {
   "cell_type": "code",
   "execution_count": 21,
   "id": "495d54b0-4534-44d0-a960-c0ef6655b4a0",
   "metadata": {},
   "outputs": [
    {
     "name": "stdout",
     "output_type": "stream",
     "text": [
      "Matrix([[2*A11*X11 + A12*X21 + A21*X21, 2*A11*X12 + A12*X22 + A21*X22], [A12*X11 + A21*X11 + 2*A22*X21, A12*X12 + A21*X12 + 2*A22*X22]])\n"
     ]
    }
   ],
   "source": [
    "f_trXAX = (X.T * A * X).trace()\n",
    "grad_list_3 = sp.derive_by_array(f_trXAX, var_X)\n",
    "grad_mat_3 = sp.Matrix(grad_list_3).reshape(2, 2)\n",
    "print(grad_mat_3)"
   ]
  },
  {
   "cell_type": "code",
   "execution_count": 23,
   "id": "b5a3c97c-52f7-4b6a-84f6-258967e29fa8",
   "metadata": {},
   "outputs": [
    {
     "name": "stdout",
     "output_type": "stream",
     "text": [
      "Matrix([[2*X11, 2*X12], [2*X21, 2*X22]])\n"
     ]
    }
   ],
   "source": [
    "f_normX = (X.T*X).trace()\n",
    "grad_list_4 = sp.derive_by_array(f_normX, var_X)\n",
    "grad_mat_4 = sp.Matrix(grad_list_4).reshape(2, 2)\n",
    "print(grad_mat_4)"
   ]
  },
  {
   "cell_type": "code",
   "execution_count": 25,
   "id": "e56f0e42-6a50-46c6-9eff-fbb4762d2875",
   "metadata": {},
   "outputs": [
    {
     "name": "stdout",
     "output_type": "stream",
     "text": [
      "Matrix([[2*A11*(A11*X11 + A12*X21 - B11) + 2*A21*(A21*X11 + A22*X21 - B21), 2*A11*(A11*X12 + A12*X22 - B12) + 2*A21*(A21*X12 + A22*X22 - B22)], [2*A12*(A11*X11 + A12*X21 - B11) + 2*A22*(A21*X11 + A22*X21 - B21), 2*A12*(A11*X12 + A12*X22 - B12) + 2*A22*(A21*X12 + A22*X22 - B22)]])\n"
     ]
    }
   ],
   "source": [
    "B11, B12, B21, B22 = sp.symbols('B11 B12 B21 B22', real=True)\n",
    "B = sp.Matrix([\n",
    "    [B11, B12],\n",
    "    [B21, B22]\n",
    "])\n",
    "f_AXB = (A*X - B)\n",
    "f_AXB_norm = (f_AXB.T * f_AXB).trace()\n",
    "grad_list_5 = sp.derive_by_array(f_AXB_norm, var_X)\n",
    "grad_mat_5 = sp.Matrix(grad_list_5).reshape(2, 2)\n",
    "print(grad_mat_5)"
   ]
  },
  {
   "cell_type": "code",
   "execution_count": 27,
   "id": "ada77191-f0b2-4e77-a632-94fc63da4e22",
   "metadata": {},
   "outputs": [
    {
     "name": "stdout",
     "output_type": "stream",
     "text": [
      "\n",
      "3) f(X) = a^T X b\n",
      "Gradient wrt X =\n",
      "⎡a₁⋅b₁  a₁⋅b₂  a₁⋅b₃⎤\n",
      "⎢                   ⎥\n",
      "⎣a₂⋅b₁  a₂⋅b₂  a₂⋅b₃⎦\n"
     ]
    }
   ],
   "source": [
    "X11, X12, X13 = sp.symbols('X11 X12 X13', real=True)\n",
    "X21, X22, X23 = sp.symbols('X21 X22 X23', real=True)\n",
    "X = sp.Matrix([\n",
    "    [X11, X12, X13],\n",
    "    [X21, X22, X23]\n",
    "])\n",
    "a1, a2 = sp.symbols('a1 a2', real=True)\n",
    "b1, b2, b3 = sp.symbols('b1 b2 b3', real=True)\n",
    "a_mat = sp.Matrix([a1, a2])\n",
    "b_mat = sp.Matrix([b1, b2, b3])\n",
    "f_expr_3 = a_mat.transpose() * X * b_mat \n",
    "vars_X = (X11, X12, X13, X21, X22, X23)\n",
    "grad_list_3 = sp.derive_by_array(f_expr_3[0], vars_X)\n",
    "grad_mat_3 = sp.Matrix(grad_list_3).reshape(2, 3)\n",
    "grad_mat_3_simpl = sp.simplify(grad_mat_3)\n",
    "print(\"\\n3) f(X) = a^T X b\")\n",
    "print(\"Gradient wrt X =\")\n",
    "sp.pprint(grad_mat_3_simpl)\n"
   ]
  },
  {
   "cell_type": "code",
   "execution_count": 29,
   "id": "de440dc5-5b15-4efb-a57a-a995fdff31ad",
   "metadata": {},
   "outputs": [
    {
     "name": "stdout",
     "output_type": "stream",
     "text": [
      "\n",
      "4) f(X) = trace(A^T X B)\n",
      "Gradient wrt X =\n",
      "⎡A₁₁⋅B₁₁ + A₁₂⋅B₁₂  A₁₁⋅B₂₁ + A₁₂⋅B₂₂⎤\n",
      "⎢                                    ⎥\n",
      "⎣A₂₁⋅B₁₁ + A₂₂⋅B₁₂  A₂₁⋅B₂₁ + A₂₂⋅B₂₂⎦\n"
     ]
    }
   ],
   "source": [
    "\n",
    "A11, A12, A21, A22 = sp.symbols('A11 A12 A21 A22', real=True)\n",
    "B11, B12, B21, B22 = sp.symbols('B11 B12 B21 B22', real=True)\n",
    "\n",
    "A_mat = sp.Matrix([[A11, A12],\n",
    "                   [A21, A22]])\n",
    "B_mat = sp.Matrix([[B11, B12],\n",
    "                   [B21, B22]])\n",
    "\n",
    "X11, X12, X21, X22 = sp.symbols('X11 X12 X21 X22', real=True)\n",
    "X_mat = sp.Matrix([[X11, X12],\n",
    "                   [X21, X22]])\n",
    "\n",
    "f_expr_4 = (A_mat.T * X_mat * B_mat).trace()\n",
    "\n",
    "vars_X_2x2 = (X11, X12, X21, X22)\n",
    "grad_list_4 = sp.derive_by_array(f_expr_4, vars_X_2x2)\n",
    "\n",
    "# reshape về 2x2\n",
    "grad_mat_4 = sp.Matrix(grad_list_4).reshape(2, 2)\n",
    "grad_mat_4_simpl = sp.simplify(grad_mat_4)\n",
    "\n",
    "print(\"\\n4) f(X) = trace(A^T X B)\")\n",
    "print(\"Gradient wrt X =\")\n",
    "sp.pprint(grad_mat_4_simpl)\n"
   ]
  },
  {
   "cell_type": "code",
   "execution_count": 31,
   "id": "7311fddb-d560-4eb9-8f2e-78f8967643ab",
   "metadata": {},
   "outputs": [
    {
     "name": "stdout",
     "output_type": "stream",
     "text": [
      "Gradient của f(X): 2*A.T*(A*X - B)\n"
     ]
    }
   ],
   "source": [
    "# slide 15: chứng minh\n",
    "from sympy import symbols, MatrixSymbol, trace\n",
    "from sympy.tensor.array import derive_by_array\n",
    "\n",
    "m, n, k = symbols('m n k', integer=True)\n",
    "# m: số cột của ma trận A, hoặc số hàng của ma trận X.\n",
    "# n: số cột của ma trận X và B.\n",
    "# k: số hàng của ma trận A và B.\n",
    "A = MatrixSymbol('A', k, m)\n",
    "X = MatrixSymbol('X', m, n)\n",
    "B = MatrixSymbol('B', k, n)\n",
    "norm_squared = trace((A * X - B).T * (A * X - B))\n",
    "gradient = derive_by_array(norm_squared, X)\n",
    "\n",
    "print(\"Gradient của f(X):\", gradient)\n"
   ]
  },
  {
   "cell_type": "code",
   "execution_count": null,
   "id": "0308a6ee-29ab-4731-ae68-751df68d1a69",
   "metadata": {},
   "outputs": [],
   "source": []
  }
 ],
 "metadata": {
  "kernelspec": {
   "display_name": "Python [conda env:base] *",
   "language": "python",
   "name": "conda-base-py"
  },
  "language_info": {
   "codemirror_mode": {
    "name": "ipython",
    "version": 3
   },
   "file_extension": ".py",
   "mimetype": "text/x-python",
   "name": "python",
   "nbconvert_exporter": "python",
   "pygments_lexer": "ipython3",
   "version": "3.12.8"
  }
 },
 "nbformat": 4,
 "nbformat_minor": 5
}

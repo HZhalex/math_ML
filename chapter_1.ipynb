{
 "cells": [
  {
   "cell_type": "code",
   "execution_count": null,
   "id": "cf84b541-db9d-41b0-8c99-4081175d52b8",
   "metadata": {},
   "outputs": [],
   "source": [
    "import numpy as np"
   ]
  },
  {
   "cell_type": "code",
   "execution_count": 38,
   "id": "9a04756a-b4bb-4d88-8793-df75c22a38c2",
   "metadata": {},
   "outputs": [
    {
     "name": "stdin",
     "output_type": "stream",
     "text": [
      "số hàng của ma trận là: 2\n",
      "số cột của ma trận là: 2\n"
     ]
    }
   ],
   "source": [
    "# slide 4\n",
    "m = int(input('số hàng của ma trận là:'))\n",
    "n = int(input('số cột của ma trận là:'))"
   ]
  },
  {
   "cell_type": "code",
   "execution_count": 40,
   "id": "6d2c9c49-b438-4e7c-b6eb-48780bad525f",
   "metadata": {},
   "outputs": [
    {
     "name": "stdin",
     "output_type": "stream",
     "text": [
      "nhập phần tử hàng 1 cột 1 của ma trận A: 1\n"
     ]
    },
    {
     "name": "stdout",
     "output_type": "stream",
     "text": [
      "[[1. 0.]\n",
      " [0. 0.]] \n",
      "\n"
     ]
    },
    {
     "name": "stdin",
     "output_type": "stream",
     "text": [
      "nhập phần tử hàng 1 cột 2 của ma trận A: 2\n"
     ]
    },
    {
     "name": "stdout",
     "output_type": "stream",
     "text": [
      "[[1. 2.]\n",
      " [0. 0.]] \n",
      "\n"
     ]
    },
    {
     "name": "stdin",
     "output_type": "stream",
     "text": [
      "nhập phần tử hàng 2 cột 1 của ma trận A: 3\n"
     ]
    },
    {
     "name": "stdout",
     "output_type": "stream",
     "text": [
      "[[1. 2.]\n",
      " [3. 0.]] \n",
      "\n"
     ]
    },
    {
     "name": "stdin",
     "output_type": "stream",
     "text": [
      "nhập phần tử hàng 2 cột 2 của ma trận A: 4\n"
     ]
    },
    {
     "name": "stdout",
     "output_type": "stream",
     "text": [
      "[[1. 2.]\n",
      " [3. 4.]] \n",
      "\n",
      "ta có ma trận A:\n",
      "[[1. 2.]\n",
      " [3. 4.]]\n"
     ]
    }
   ],
   "source": [
    "A = np.zeros((m,n))\n",
    "for i in range(m):\n",
    "    for j in range(n):\n",
    "        A[i][j] = input(f'nhập phần tử hàng {i+1} cột {j+1} của ma trận A:')      \n",
    "        print(A, '\\n')\n",
    "print('ta có ma trận A:')\n",
    "print(A)"
   ]
  },
  {
   "cell_type": "code",
   "execution_count": 46,
   "id": "72f18385-b2c5-4c31-a62e-1daba284dda5",
   "metadata": {},
   "outputs": [
    {
     "name": "stdout",
     "output_type": "stream",
     "text": [
      "ta có ma trận chuyển vị là:\n",
      "[[1. 3.]\n",
      " [2. 4.]]\n"
     ]
    }
   ],
   "source": [
    "# slide 5\n",
    "A_T = A.T\n",
    "print('ta có ma trận chuyển vị là:')\n",
    "print(A_T)"
   ]
  },
  {
   "cell_type": "code",
   "execution_count": 48,
   "id": "ba92d57e-7143-40a6-963c-ef3876edba16",
   "metadata": {},
   "outputs": [],
   "source": [
    "# slide 6\n",
    "import numpy as np"
   ]
  },
  {
   "cell_type": "code",
   "execution_count": 50,
   "id": "dc871d33-9eea-4dcb-a54c-358ba391f8f7",
   "metadata": {},
   "outputs": [
    {
     "name": "stdin",
     "output_type": "stream",
     "text": [
      "Hãy nhập kích thước của ma trận vuông:  2\n"
     ]
    }
   ],
   "source": [
    "n = int(input('Hãy nhập kích thước của ma trận vuông: '))"
   ]
  },
  {
   "cell_type": "code",
   "execution_count": 62,
   "id": "411f9816-9889-4c99-a0d3-c25e381d955f",
   "metadata": {},
   "outputs": [
    {
     "name": "stdin",
     "output_type": "stream",
     "text": [
      "Hàng 1: 1 2 \n",
      "Hàng 2: 3 4\n"
     ]
    },
    {
     "name": "stdout",
     "output_type": "stream",
     "text": [
      "[[1. 2.]\n",
      " [3. 4.]]\n"
     ]
    }
   ],
   "source": [
    "A = []\n",
    "for i in range(n):\n",
    "    row = list(map(float,input(f'Hàng {i+1}:').split()))\n",
    "    A.append(row)\n",
    "print(np.array(A))"
   ]
  },
  {
   "cell_type": "code",
   "execution_count": 64,
   "id": "da1f8113-bc90-4a40-b7f5-ec44b317f209",
   "metadata": {},
   "outputs": [],
   "source": [
    "import numpy as np"
   ]
  },
  {
   "cell_type": "code",
   "execution_count": 66,
   "id": "8d91b387-6aca-4cc2-8380-184986c1dc14",
   "metadata": {},
   "outputs": [
    {
     "name": "stdin",
     "output_type": "stream",
     "text": [
      "số cột của ma trận là: 2\n",
      "số hàng của ma trận là: 3\n"
     ]
    }
   ],
   "source": [
    "n = int(input('số cột của ma trận là:'))\n",
    "m = int(input('số hàng của ma trận là:'))"
   ]
  },
  {
   "cell_type": "code",
   "execution_count": 72,
   "id": "4f1f8a9b-e4ce-4003-91c5-8665f67cced7",
   "metadata": {},
   "outputs": [
    {
     "name": "stdin",
     "output_type": "stream",
     "text": [
      "Hàng 1:  2 3 4\n",
      "Hàng 2:  1 2 3\n"
     ]
    },
    {
     "name": "stdout",
     "output_type": "stream",
     "text": [
      "Ma trận chuyển vị liên hợp:\n",
      "[[2.-0.j 1.-0.j]\n",
      " [3.-0.j 2.-0.j]\n",
      " [4.-0.j 3.-0.j]]\n"
     ]
    }
   ],
   "source": [
    "A = []\n",
    "for i in range(n):\n",
    "    row = list(map(complex, input(f\"Hàng {i+1}: \").split()))\n",
    "    A.append(row)\n",
    "A = np.array(A, dtype=np.complex128)\n",
    "print('Ma trận chuyển vị liên hợp:')\n",
    "print(A.conj().T)"
   ]
  },
  {
   "cell_type": "code",
   "execution_count": 1,
   "id": "3e3f83bd-5cf4-4ef4-9f3b-de5f18ed2100",
   "metadata": {},
   "outputs": [],
   "source": [
    "# slide 7\n",
    "import numpy as np"
   ]
  },
  {
   "cell_type": "code",
   "execution_count": 3,
   "id": "24eaf131-9925-40df-bf26-56831a536df4",
   "metadata": {},
   "outputs": [
    {
     "name": "stdin",
     "output_type": "stream",
     "text": [
      "Nhập kích thước của ma trận vuông {n}: 3\n",
      "hàng 1: 1 2 3\n",
      "hàng 2: 2 3 4\n",
      "hàng 3: 3 4 5\n"
     ]
    },
    {
     "name": "stdout",
     "output_type": "stream",
     "text": [
      "\n",
      " Ma trận vuông A:\n",
      "[[1. 2. 3.]\n",
      " [2. 3. 4.]\n",
      " [3. 4. 5.]]\n"
     ]
    }
   ],
   "source": [
    "# Nhập kích thước của ma trận vuông {nxn}:\n",
    "n = int(input(\"Nhập kích thước của ma trận vuông {n}:\"))\n",
    "\n",
    "A = []\n",
    "for i in range(n):\n",
    "    row = list(map(float,input(f\"hàng {i+1}:\").split()))\n",
    "    A.append(row)\n",
    "A = np.array(A)\n",
    "print(\"\\n Ma trận vuông A:\")\n",
    "print(A)"
   ]
  },
  {
   "cell_type": "code",
   "execution_count": 9,
   "id": "a448d53e-836f-4178-aeb5-e875c9a7a419",
   "metadata": {},
   "outputs": [
    {
     "name": "stdin",
     "output_type": "stream",
     "text": [
      "Nhập vào hàng: 2 \n",
      "nhập vào cột: 2\n",
      "nhập vào hàng 1: 1 2\n",
      "nhập vào hàng 2: 2 3\n"
     ]
    },
    {
     "name": "stdout",
     "output_type": "stream",
     "text": [
      "[[1.  1.5]\n",
      " [0.  1. ]]\n"
     ]
    }
   ],
   "source": [
    "# slide 8\n",
    "import numpy as np\n",
    "def row_echelon_form(A):\n",
    "    A = A.astype(float)\n",
    "    rows,cols = A.shape\n",
    "    pivot_row = 0\n",
    "    for col in range(cols):\n",
    "        max_row = pivot_row + np.argmax(np.abs(A[pivot_row:,col]))\n",
    "        if A[max_row,col] == 0:\n",
    "            continue\n",
    "        A[[pivot_row,max_row]] = A[[max_row,pivot_row]]\n",
    "        A[pivot_row] = A[pivot_row] / A[pivot_row,col]\n",
    "        for row in range(pivot_row + 1,rows):\n",
    "            A[row] -= A[row,col] *A[pivot_row]\n",
    "        pivot_row += 1\n",
    "        if pivot_row == rows:\n",
    "            break\n",
    "    return A\n",
    "m = int(input(\"Nhập vào hàng:\"))\n",
    "n = int(input(\"nhập vào cột:\"))\n",
    "A = []\n",
    "for i in range(m):\n",
    "    row = list(map(float,input(f\"nhập vào hàng {i+1}:\").split()))\n",
    "    A.append(row)\n",
    "A =np.array(A)\n",
    "A_ref = row_echelon_form(A.copy())\n",
    "print(A_ref)"
   ]
  },
  {
   "cell_type": "code",
   "execution_count": 11,
   "id": "1508c06f-df8c-408c-a4e3-4078c1bd5d1e",
   "metadata": {},
   "outputs": [],
   "source": [
    "# slide 9\n",
    "import numpy as np"
   ]
  },
  {
   "cell_type": "code",
   "execution_count": 17,
   "id": "4cdd0666-2b0d-4f95-aa9c-cdbd3330b870",
   "metadata": {},
   "outputs": [
    {
     "name": "stdin",
     "output_type": "stream",
     "text": [
      "nhập kích thước ma trận vuông(n):  2\n"
     ]
    },
    {
     "name": "stdout",
     "output_type": "stream",
     "text": [
      "ma trận ban đầu:\n",
      "[[2 5]\n",
      " [1 5]]\n",
      "\n",
      " ma trận tam giác trên là:\n",
      "[[2 5]\n",
      " [0 5]]\n",
      "\n",
      " ma trận tam giác dưới là:\n",
      "[[2 0]\n",
      " [1 5]]\n"
     ]
    }
   ],
   "source": [
    "n = int(input(\"nhập kích thước ma trận vuông(n): \"))\n",
    "A = np.random.randint(1,10,(n,n))\n",
    "upper = np.triu(A)\n",
    "lower = np.tril(A)\n",
    "print(\"ma trận ban đầu:\")\n",
    "print(A)\n",
    "print(\"\\n ma trận tam giác trên là:\")\n",
    "print(upper)\n",
    "print(\"\\n ma trận tam giác dưới là:\")\n",
    "print(lower)"
   ]
  },
  {
   "cell_type": "code",
   "execution_count": 29,
   "id": "bb40f29c-8021-43ff-b0ff-f7a18c1e3d56",
   "metadata": {},
   "outputs": [
    {
     "name": "stdin",
     "output_type": "stream",
     "text": [
      "nhập vào kích thước của ma trận vuông {n}: 2\n"
     ]
    },
    {
     "name": "stdout",
     "output_type": "stream",
     "text": [
      "ta có ma trận ban đầu là:\n",
      "[[-3 -8]\n",
      " [-6 -6]]\n",
      "ta có ma trận xác định dương là:\n",
      "[[ 45  60]\n",
      " [ 60 100]]\n"
     ]
    }
   ],
   "source": [
    "# slide 10\n",
    "import numpy as np\n",
    "def tao_matran_duong(n):\n",
    "    B = np.random.randint(-10,-1,(n,n))\n",
    "    A = np.dot(B.T,B)\n",
    "    return A,B\n",
    "n = int(input(\"nhập vào kích thước của ma trận vuông {n}:\"))\n",
    "A,B = tao_matran_duong(n)\n",
    "print(\"ta có ma trận ban đầu là:\")\n",
    "print(B)\n",
    "print(\"ta có ma trận xác định dương là:\")\n",
    "print(A)"
   ]
  },
  {
   "cell_type": "code",
   "execution_count": 67,
   "id": "8f9dfff5-2afa-4355-9301-573cbda58f5d",
   "metadata": {},
   "outputs": [
    {
     "name": "stdin",
     "output_type": "stream",
     "text": [
      "nhập số hàng của ma trận A: 2\n",
      "nhập vào cột của ma trận A cũng là số hàng của ma trận B: 3\n",
      "nhập vào số cột của ma trận B: 2\n"
     ]
    },
    {
     "name": "stdout",
     "output_type": "stream",
     "text": [
      "\n",
      " Nhập vào ma trận A:\n"
     ]
    },
    {
     "name": "stdin",
     "output_type": "stream",
     "text": [
      "phần tử A[1][1] 1\n",
      "phần tử A[1][2] 1\n",
      "phần tử A[1][3] 1\n",
      "phần tử A[2][1] 1\n",
      "phần tử A[2][2] 1\n",
      "phần tử A[2][3] 1\n"
     ]
    },
    {
     "name": "stdout",
     "output_type": "stream",
     "text": [
      "(2, 3)\n",
      "\n",
      " nhập vào ma trận B:\n"
     ]
    },
    {
     "name": "stdin",
     "output_type": "stream",
     "text": [
      "phần tử B[1][1] 1\n",
      "phần tử B[1][2] 1\n",
      "phần tử B[2][1] 1\n",
      "phần tử B[2][2] 1\n",
      "phần tử B[3][1] 1\n",
      "phần tử B[3][2] 1\n"
     ]
    },
    {
     "name": "stdout",
     "output_type": "stream",
     "text": [
      "(3, 2)\n",
      "\n",
      " nhân 2 ma trận là:\n",
      "[[3 3]\n",
      " [3 3]]\n",
      "\n",
      " công 2 ma trận là:\n",
      "[[2 2 2]\n",
      " [2 2 2]]\n"
     ]
    }
   ],
   "source": [
    "# slide 11\n",
    "import numpy as np\n",
    "m = int(input(\"nhập số hàng của ma trận A:\"))\n",
    "n = int(input(\"nhập vào cột của ma trận A cũng là số hàng của ma trận B:\"))\n",
    "p = int(input(\"nhập vào số cột của ma trận B:\"))\n",
    "\n",
    "print(\"\\n Nhập vào ma trận A:\")\n",
    "A = np.array([[int(input(f\"phần tử A[{j+1}][{i +1}]\")) for i  in range(n) ] for j in range(m)])\n",
    "print(A.shape)\n",
    "print(\"\\n nhập vào ma trận B:\")\n",
    "B = np.array([[int(input(f\"phần tử B[{j+1}][{i +1}]\"))for i in range(p)] for j in range(n)])\n",
    "print(B.shape)\n",
    "\n",
    "C = A@B # hoặc sử dụng dot(A,B)\n",
    "D = A + B.T\n",
    "print(\"\\n nhân 2 ma trận là:\")\n",
    "print(C)\n",
    "print(\"\\n công 2 ma trận là:\")\n",
    "print(D)"
   ]
  },
  {
   "cell_type": "code",
   "execution_count": 23,
   "id": "1a9ffcf4-08e5-46cc-921d-382267bd562c",
   "metadata": {},
   "outputs": [
    {
     "name": "stdin",
     "output_type": "stream",
     "text": [
      "nhập kích thước của ma trận vuông {n}: 4\n"
     ]
    },
    {
     "name": "stdout",
     "output_type": "stream",
     "text": [
      "\n",
      " nhập ma trận A:\n"
     ]
    },
    {
     "name": "stdin",
     "output_type": "stream",
     "text": [
      "A[0][0]:  -1\n",
      "A[0][1]:  0\n",
      "A[0][2]:  1\n",
      "A[0][3]:  -1\n",
      "A[1][0]:  2\n",
      "A[1][1]:  1\n",
      "A[1][2]:  -3\n",
      "A[1][3]:  4\n",
      "A[2][0]:  1\n",
      "A[2][1]:  2\n",
      "A[2][2]:  -2\n",
      "A[2][3]:  8\n",
      "A[3][0]:  -2\n",
      "A[3][1]:  0\n",
      "A[3][2]:  2\n",
      "A[3][3]:  1\n"
     ]
    },
    {
     "name": "stdout",
     "output_type": "stream",
     "text": [
      "\n",
      " ma trận khả nghịch của A là:\n",
      "[[-1.33333333 -2.          1.         -1.33333333]\n",
      " [ 2.33333333 -1.          1.         -1.66666667]\n",
      " [-1.         -2.          1.         -1.        ]\n",
      " [-0.66666667 -0.         -0.          0.33333333]]\n",
      "\n",
      " kiểm tra tính khả nghịch của ma trận A:\n",
      "[[ 1. -0.  0. -0.]\n",
      " [ 0.  1.  0.  0.]\n",
      " [ 0.  0.  1.  0.]\n",
      " [ 0. -0.  0.  1.]]\n"
     ]
    }
   ],
   "source": [
    "# slide 13\n",
    "import numpy as np\n",
    "n = int(input(\"nhập kích thước của ma trận vuông {n}:\"))\n",
    "\n",
    "print(\"\\n nhập ma trận A:\")\n",
    "A = np.array([[float(input(f\"A[{i}][{j}]: \")) for j in range(n)] for i in range(n)])\n",
    "det_A = np.linalg.det(A)\n",
    "if det_A == 0:\n",
    "    print(\"ma trận A không phải là ma trận khả nghịch:\")\n",
    "else:\n",
    "    A_inv = np.linalg.inv(A)\n",
    "    print(\"\\n ma trận khả nghịch của A là:\")\n",
    "    print(A_inv)\n",
    "\n",
    "    print(\"\\n kiểm tra tính khả nghịch của ma trận A:\")\n",
    "    print(np.round(np.dot(A,A_inv),5))"
   ]
  },
  {
   "cell_type": "code",
   "execution_count": 1,
   "id": "d030fe56-c78a-48a5-943a-ad0e6f70170b",
   "metadata": {},
   "outputs": [],
   "source": [
    "# slide 14 \n",
    "import numpy as np"
   ]
  },
  {
   "cell_type": "code",
   "execution_count": 11,
   "id": "607ba851-60f9-4672-8eb8-0dbe26270229",
   "metadata": {},
   "outputs": [
    {
     "name": "stdout",
     "output_type": "stream",
     "text": [
      "ta co ma tran truc giao la:\n",
      " [[-0.25879487 -0.61980595 -0.74085478]\n",
      " [-0.70035823 -0.40780831  0.58582483]\n",
      " [-0.66522445  0.6704722  -0.3285475 ]]\n",
      "[[-1.0662318  -0.74555187 -1.06994412]\n",
      " [ 0.         -0.22023199 -0.49541998]\n",
      " [ 0.          0.         -0.17299958]]\n"
     ]
    }
   ],
   "source": [
    "def random_orthogonal_matrix(n):\n",
    "    \"\"\"\n",
    "    sinh ra một ma trận trực giao ngẫu nhiên kích thước {nxn}.\n",
    "\n",
    "    :param n: kích thước của ma trận\n",
    "    :return: Ma trận trực giao (Numpy array)\n",
    "    \"\"\"\n",
    "\n",
    "    random_matrix = np.random.rand(n,n)\n",
    "    Q, h = np.linalg.qr(random_matrix)\n",
    "    return Q,h\n",
    "hung,hung1 = random_orthogonal_matrix(3)\n",
    "print(\"ta co ma tran truc giao la:\\n\",hung)\n",
    "print(hung1)"
   ]
  },
  {
   "cell_type": "code",
   "execution_count": 13,
   "id": "2c58d42a-59b6-49ca-9f89-0f374dfa7b8f",
   "metadata": {},
   "outputs": [],
   "source": [
    "# slide 17\n",
    "import numpy as np\n",
    "\n",
    "def determinant_laplace(matrix):\n",
    "    \"\"\"\n",
    "    Tính định thức của ma trận bằng phương pháp khai triển Laplace (đệ quy).\n",
    "    :param matrix: Ma trận vuông (numpy array hoặc list lồng nhau)\n",
    "    :return: Giá trị định thức của ma trận\n",
    "    \"\"\"\n",
    "    matrix = np.array(matrix)\n",
    "    n = matrix.shape[0]\n",
    "\n",
    "    # Điều kiện dừng: Ma trận 1x1\n",
    "    if n == 1:\n",
    "        return matrix[0][0]\n",
    "    # Điều kiện dừng: Ma trận 2x2\n",
    "    elif n == 2:\n",
    "        return matrix[0][0] * matrix[1][1] - matrix[0][1] * matrix[1][0]\n",
    "    else:\n",
    "        det = 0\n",
    "        for i in range(n):\n",
    "            for j in range(n):\n",
    "                # Xóa hàng đầu tiên và cột j để tạo ma trận con\n",
    "                sub_matrix = np.delete(np.delete(matrix[1:], j, axis=1), i, axis=0)\n",
    "                cofactor = (-1) ** (i + j) * matrix[0][j] * determinant_laplace(sub_matrix)\n",
    "                det += cofactor\n",
    "        return det\n",
    "\n",
    "def input_matrix():\n",
    "    n = int(input(\"Nhập kích thước ma trận vuông n x n: \"))\n",
    "    matrix = []\n",
    "    print(\"Nhập từng dòng của ma trận, cách nhau bởi dấu cách:\")\n",
    "    for i in range(n):\n",
    "        row = list(map(float, input(f\"Dòng {i+1}: \").split()))\n",
    "        matrix.append(row)\n",
    "    return np.array(matrix)\n",
    "\n",
    "# Chạy chương trình\n",
    "if __name__ == \"__main__\":\n",
    "    matrix = input_matrix()\n",
    "    det = determinant_laplace(matrix)\n",
    "    print(f\"Định thức của ma trận là: {det}\")\n"
   ]
  },
  {
   "cell_type": "code",
   "execution_count": 17,
   "id": "e876daec-386d-4eb7-8076-b23a4e8c94a3",
   "metadata": {},
   "outputs": [],
   "source": [
    "# slide 21 \n",
    "import numpy as np"
   ]
  },
  {
   "cell_type": "code",
   "execution_count": 19,
   "id": "4fe39f63-b335-4da4-a03f-38d4b7999e6a",
   "metadata": {},
   "outputs": [
    {
     "name": "stdin",
     "output_type": "stream",
     "text": [
      "nhập số hàng và số cột của ma trận( cách nhau bởi dấu cách): 2 2\n"
     ]
    },
    {
     "name": "stdout",
     "output_type": "stream",
     "text": [
      "nhập từng dòng của ma trận, cách nhau bởi dấu cách:\n"
     ]
    },
    {
     "name": "stdin",
     "output_type": "stream",
     "text": [
      "Dòng 1:  1 2\n",
      "Dòng 2: 3 4\n"
     ]
    },
    {
     "name": "stdout",
     "output_type": "stream",
     "text": [
      "Hạng của ma trận: 2\n"
     ]
    }
   ],
   "source": [
    "def input_matrix():\n",
    "    n,m = map(int,input(\"nhập số hàng và số cột của ma trận( cách nhau bởi dấu cách):\").split())\n",
    "    print(\"nhập từng dòng của ma trận, cách nhau bởi dấu cách:\")\n",
    "    matrix = []\n",
    "    for i in range(n):\n",
    "        row = list(map(float,input(f\"Dòng {i+1}:\").split()))\n",
    "        matrix.append(row)\n",
    "    return np.array(matrix)\n",
    "A =input_matrix()\n",
    "rank = np.linalg.matrix_rank(A)\n",
    "print(\"Hạng của ma trận:\",rank)"
   ]
  },
  {
   "cell_type": "code",
   "execution_count": null,
   "id": "0de0eddd-7dd6-469e-b88c-fbf9ada59db7",
   "metadata": {},
   "outputs": [],
   "source": [
    "# slide 24\n",
    "import numpy as np\n",
    "\n",
    "def gauss_jordan_inverse(matrix):\n",
    "    \"\"\"\n",
    "    Tìm ma trận nghịch đảo bằng phương pháp Gauss-Jordan.\n",
    "    \n",
    "    :param matrix: Ma trận vuông (numpy array)\n",
    "    :return: Ma trận nghịch đảo nếu tồn tại, ngược lại báo lỗi\n",
    "    \"\"\"\n",
    "    matrix = np.array(matrix, dtype=float)\n",
    "    n = matrix.shape[0]\n",
    "\n",
    "    # Tạo ma trận mở rộng [A | I]\n",
    "    augmented_matrix = np.hstack([matrix, np.eye(n)])\n",
    "\n",
    "    # Áp dụng phép biến đổi hàng\n",
    "    for i in range(n):\n",
    "        # Tìm phần tử chính (pivot)\n",
    "        pivot = augmented_matrix[i, i]\n",
    "        if abs(pivot) < 1e-10:  # Kiểm tra nếu phần tử pivot quá nhỏ hoặc bằng 0\n",
    "            raise ValueError(\"Ma trận không khả nghịch!\")\n",
    "\n",
    "        # Chia hàng i cho pivot để pivot trở thành 1\n",
    "        augmented_matrix[i] = augmented_matrix[i] / pivot\n",
    "\n",
    "        # Dùng hàng i để khử các phần tử khác trong cột\n",
    "        for j in range(n):\n",
    "            if i != j:\n",
    "                factor = augmented_matrix[j, i]\n",
    "                augmented_matrix[j] -= factor * augmented_matrix[i]\n",
    "\n",
    "    # Phần bên phải là ma trận nghịch đảo\n",
    "    inverse_matrix = augmented_matrix[:, n:]\n",
    "    return inverse_matrix\n",
    "\n",
    "# Nhập ma trận từ người dùng\n",
    "def input_matrix():\n",
    "    n = int(input(\"Nhập kích thước ma trận vuông n x n: \"))\n",
    "    matrix = []\n",
    "    print(\"Nhập từng dòng của ma trận, cách nhau bởi dấu cách:\")\n",
    "    for i in range(n):\n",
    "        row = list(map(float, input(f\"Dòng {i+1}: \").split()))\n",
    "        matrix.append(row)\n",
    "    return np.array(matrix)\n",
    "\n",
    "# Chạy chương trình\n",
    "try:\n",
    "    A = input_matrix()\n",
    "    A_inv = gauss_jordan_inverse(A)\n",
    "    print(\"Ma trận nghịch đảo của A là:\\n\", A_inv)\n",
    "except ValueError as e:\n",
    "    print(e)\n"
   ]
  }
 ],
 "metadata": {
  "kernelspec": {
   "display_name": "Python [conda env:base] *",
   "language": "python",
   "name": "conda-base-py"
  },
  "language_info": {
   "codemirror_mode": {
    "name": "ipython",
    "version": 3
   },
   "file_extension": ".py",
   "mimetype": "text/x-python",
   "name": "python",
   "nbconvert_exporter": "python",
   "pygments_lexer": "ipython3",
   "version": "3.12.8"
  }
 },
 "nbformat": 4,
 "nbformat_minor": 5
}

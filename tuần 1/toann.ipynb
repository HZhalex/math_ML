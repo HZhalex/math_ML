{
 "cells": [
  {
   "cell_type": "code",
   "execution_count": 2,
   "id": "61d6022f-f536-4b12-a587-fded1adc0395",
   "metadata": {},
   "outputs": [],
   "source": [
    "import numpy as np"
   ]
  },
  {
   "cell_type": "code",
   "execution_count": 38,
   "id": "9a04756a-b4bb-4d88-8793-df75c22a38c2",
   "metadata": {},
   "outputs": [
    {
     "name": "stdin",
     "output_type": "stream",
     "text": [
      "số hàng của ma trận là: 2\n",
      "số cột của ma trận là: 2\n"
     ]
    }
   ],
   "source": [
    "m = int(input('số hàng của ma trận là:'))\n",
    "n = int(input('số cột của ma trận là:'))"
   ]
  },
  {
   "cell_type": "code",
   "execution_count": 40,
   "id": "6d2c9c49-b438-4e7c-b6eb-48780bad525f",
   "metadata": {},
   "outputs": [
    {
     "name": "stdin",
     "output_type": "stream",
     "text": [
      "nhập phần tử hàng 1 cột 1 của ma trận A: 1\n"
     ]
    },
    {
     "name": "stdout",
     "output_type": "stream",
     "text": [
      "[[1. 0.]\n",
      " [0. 0.]] \n",
      "\n"
     ]
    },
    {
     "name": "stdin",
     "output_type": "stream",
     "text": [
      "nhập phần tử hàng 1 cột 2 của ma trận A: 2\n"
     ]
    },
    {
     "name": "stdout",
     "output_type": "stream",
     "text": [
      "[[1. 2.]\n",
      " [0. 0.]] \n",
      "\n"
     ]
    },
    {
     "name": "stdin",
     "output_type": "stream",
     "text": [
      "nhập phần tử hàng 2 cột 1 của ma trận A: 3\n"
     ]
    },
    {
     "name": "stdout",
     "output_type": "stream",
     "text": [
      "[[1. 2.]\n",
      " [3. 0.]] \n",
      "\n"
     ]
    },
    {
     "name": "stdin",
     "output_type": "stream",
     "text": [
      "nhập phần tử hàng 2 cột 2 của ma trận A: 4\n"
     ]
    },
    {
     "name": "stdout",
     "output_type": "stream",
     "text": [
      "[[1. 2.]\n",
      " [3. 4.]] \n",
      "\n",
      "ta có ma trận A:\n",
      "[[1. 2.]\n",
      " [3. 4.]]\n"
     ]
    }
   ],
   "source": [
    "A = np.zeros((m,n))\n",
    "for i in range(m):\n",
    "    for j in range(n):\n",
    "        A[i][j] = input(f'nhập phần tử hàng {i+1} cột {j+1} của ma trận A:')      \n",
    "        print(A, '\\n')\n",
    "print('ta có ma trận A:')\n",
    "print(A)"
   ]
  },
  {
   "cell_type": "code",
   "execution_count": 46,
   "id": "72f18385-b2c5-4c31-a62e-1daba284dda5",
   "metadata": {},
   "outputs": [
    {
     "name": "stdout",
     "output_type": "stream",
     "text": [
      "ta có ma trận chuyển vị là:\n",
      "[[1. 3.]\n",
      " [2. 4.]]\n"
     ]
    }
   ],
   "source": [
    "A_T = A.T\n",
    "print('ta có ma trận chuyển vị là:')\n",
    "print(A_T)"
   ]
  },
  {
   "cell_type": "code",
   "execution_count": 48,
   "id": "ba92d57e-7143-40a6-963c-ef3876edba16",
   "metadata": {},
   "outputs": [],
   "source": [
    "import numpy as np"
   ]
  },
  {
   "cell_type": "code",
   "execution_count": 50,
   "id": "dc871d33-9eea-4dcb-a54c-358ba391f8f7",
   "metadata": {},
   "outputs": [
    {
     "name": "stdin",
     "output_type": "stream",
     "text": [
      "Hãy nhập kích thước của ma trận vuông:  2\n"
     ]
    }
   ],
   "source": [
    "n = int(input('Hãy nhập kích thước của ma trận vuông: '))"
   ]
  },
  {
   "cell_type": "code",
   "execution_count": 62,
   "id": "411f9816-9889-4c99-a0d3-c25e381d955f",
   "metadata": {},
   "outputs": [
    {
     "name": "stdin",
     "output_type": "stream",
     "text": [
      "Hàng 1: 1 2 \n",
      "Hàng 2: 3 4\n"
     ]
    },
    {
     "name": "stdout",
     "output_type": "stream",
     "text": [
      "[[1. 2.]\n",
      " [3. 4.]]\n"
     ]
    }
   ],
   "source": [
    "A = []\n",
    "for i in range(n):\n",
    "    row = list(map(float,input(f'Hàng {i+1}:').split()))\n",
    "    A.append(row)\n",
    "print(np.array(A))"
   ]
  },
  {
   "cell_type": "code",
   "execution_count": 64,
   "id": "da1f8113-bc90-4a40-b7f5-ec44b317f209",
   "metadata": {},
   "outputs": [],
   "source": [
    "import numpy as np"
   ]
  },
  {
   "cell_type": "code",
   "execution_count": 66,
   "id": "8d91b387-6aca-4cc2-8380-184986c1dc14",
   "metadata": {},
   "outputs": [
    {
     "name": "stdin",
     "output_type": "stream",
     "text": [
      "số cột của ma trận là: 2\n",
      "số hàng của ma trận là: 3\n"
     ]
    }
   ],
   "source": [
    "n = int(input('số cột của ma trận là:'))\n",
    "m = int(input('số hàng của ma trận là:'))"
   ]
  },
  {
   "cell_type": "code",
   "execution_count": 72,
   "id": "4f1f8a9b-e4ce-4003-91c5-8665f67cced7",
   "metadata": {},
   "outputs": [
    {
     "name": "stdin",
     "output_type": "stream",
     "text": [
      "Hàng 1:  2 3 4\n",
      "Hàng 2:  1 2 3\n"
     ]
    },
    {
     "name": "stdout",
     "output_type": "stream",
     "text": [
      "Ma trận chuyển vị liên hợp:\n",
      "[[2.-0.j 1.-0.j]\n",
      " [3.-0.j 2.-0.j]\n",
      " [4.-0.j 3.-0.j]]\n"
     ]
    }
   ],
   "source": [
    "A = []\n",
    "for i in range(n):\n",
    "    row = list(map(complex, input(f\"Hàng {i+1}: \").split()))\n",
    "    A.append(row)\n",
    "A = np.array(A, dtype=np.complex128)\n",
    "print('Ma trận chuyển vị liên hợp:')\n",
    "print(A.conj().T)"
   ]
  },
  {
   "cell_type": "code",
   "execution_count": null,
   "id": "3e3f83bd-5cf4-4ef4-9f3b-de5f18ed2100",
   "metadata": {},
   "outputs": [],
   "source": []
  },
  {
   "cell_type": "code",
   "execution_count": null,
   "id": "24eaf131-9925-40df-bf26-56831a536df4",
   "metadata": {},
   "outputs": [],
   "source": []
  },
  {
   "cell_type": "code",
   "execution_count": null,
   "id": "a448d53e-836f-4178-aeb5-e875c9a7a419",
   "metadata": {},
   "outputs": [],
   "source": []
  },
  {
   "cell_type": "code",
   "execution_count": null,
   "id": "1508c06f-df8c-408c-a4e3-4078c1bd5d1e",
   "metadata": {},
   "outputs": [],
   "source": []
  },
  {
   "cell_type": "code",
   "execution_count": null,
   "id": "4cdd0666-2b0d-4f95-aa9c-cdbd3330b870",
   "metadata": {},
   "outputs": [],
   "source": []
  },
  {
   "cell_type": "code",
   "execution_count": null,
   "id": "bb40f29c-8021-43ff-b0ff-f7a18c1e3d56",
   "metadata": {},
   "outputs": [],
   "source": []
  }
 ],
 "metadata": {
  "kernelspec": {
   "display_name": "Python [conda env:base] *",
   "language": "python",
   "name": "conda-base-py"
  },
  "language_info": {
   "codemirror_mode": {
    "name": "ipython",
    "version": 3
   },
   "file_extension": ".py",
   "mimetype": "text/x-python",
   "name": "python",
   "nbconvert_exporter": "python",
   "pygments_lexer": "ipython3",
   "version": "3.12.8"
  }
 },
 "nbformat": 4,
 "nbformat_minor": 5
}

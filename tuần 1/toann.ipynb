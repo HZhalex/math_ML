{
 "cells": [
  {
   "cell_type": "code",
   "execution_count": 2,
   "id": "61d6022f-f536-4b12-a587-fded1adc0395",
   "metadata": {},
   "outputs": [],
   "source": [
    "import numpy as np"
   ]
  },
  {
   "cell_type": "code",
   "execution_count": 38,
   "id": "9a04756a-b4bb-4d88-8793-df75c22a38c2",
   "metadata": {},
   "outputs": [
    {
     "name": "stdin",
     "output_type": "stream",
     "text": [
      "số hàng của ma trận là: 2\n",
      "số cột của ma trận là: 2\n"
     ]
    }
   ],
   "source": [
    "m = int(input('số hàng của ma trận là:'))\n",
    "n = int(input('số cột của ma trận là:'))"
   ]
  },
  {
   "cell_type": "code",
   "execution_count": 40,
   "id": "6d2c9c49-b438-4e7c-b6eb-48780bad525f",
   "metadata": {},
   "outputs": [
    {
     "name": "stdin",
     "output_type": "stream",
     "text": [
      "nhập phần tử hàng 1 cột 1 của ma trận A: 1\n"
     ]
    },
    {
     "name": "stdout",
     "output_type": "stream",
     "text": [
      "[[1. 0.]\n",
      " [0. 0.]] \n",
      "\n"
     ]
    },
    {
     "name": "stdin",
     "output_type": "stream",
     "text": [
      "nhập phần tử hàng 1 cột 2 của ma trận A: 2\n"
     ]
    },
    {
     "name": "stdout",
     "output_type": "stream",
     "text": [
      "[[1. 2.]\n",
      " [0. 0.]] \n",
      "\n"
     ]
    },
    {
     "name": "stdin",
     "output_type": "stream",
     "text": [
      "nhập phần tử hàng 2 cột 1 của ma trận A: 3\n"
     ]
    },
    {
     "name": "stdout",
     "output_type": "stream",
     "text": [
      "[[1. 2.]\n",
      " [3. 0.]] \n",
      "\n"
     ]
    },
    {
     "name": "stdin",
     "output_type": "stream",
     "text": [
      "nhập phần tử hàng 2 cột 2 của ma trận A: 4\n"
     ]
    },
    {
     "name": "stdout",
     "output_type": "stream",
     "text": [
      "[[1. 2.]\n",
      " [3. 4.]] \n",
      "\n",
      "ta có ma trận A:\n",
      "[[1. 2.]\n",
      " [3. 4.]]\n"
     ]
    }
   ],
   "source": [
    "A = np.zeros((m,n))\n",
    "for i in range(m):\n",
    "    for j in range(n):\n",
    "        A[i][j] = input(f'nhập phần tử hàng {i+1} cột {j+1} của ma trận A:')      \n",
    "        print(A, '\\n')\n",
    "print('ta có ma trận A:')\n",
    "print(A)"
   ]
  },
  {
   "cell_type": "code",
   "execution_count": 46,
   "id": "72f18385-b2c5-4c31-a62e-1daba284dda5",
   "metadata": {},
   "outputs": [
    {
     "name": "stdout",
     "output_type": "stream",
     "text": [
      "ta có ma trận chuyển vị là:\n",
      "[[1. 3.]\n",
      " [2. 4.]]\n"
     ]
    }
   ],
   "source": [
    "A_T = A.T\n",
    "print('ta có ma trận chuyển vị là:')\n",
    "print(A_T)"
   ]
  },
  {
   "cell_type": "code",
   "execution_count": 48,
   "id": "ba92d57e-7143-40a6-963c-ef3876edba16",
   "metadata": {},
   "outputs": [],
   "source": [
    "import numpy as np"
   ]
  },
  {
   "cell_type": "code",
   "execution_count": 50,
   "id": "dc871d33-9eea-4dcb-a54c-358ba391f8f7",
   "metadata": {},
   "outputs": [
    {
     "name": "stdin",
     "output_type": "stream",
     "text": [
      "Hãy nhập kích thước của ma trận vuông:  2\n"
     ]
    }
   ],
   "source": [
    "n = int(input('Hãy nhập kích thước của ma trận vuông: '))"
   ]
  },
  {
   "cell_type": "code",
   "execution_count": 62,
   "id": "411f9816-9889-4c99-a0d3-c25e381d955f",
   "metadata": {},
   "outputs": [
    {
     "name": "stdin",
     "output_type": "stream",
     "text": [
      "Hàng 1: 1 2 \n",
      "Hàng 2: 3 4\n"
     ]
    },
    {
     "name": "stdout",
     "output_type": "stream",
     "text": [
      "[[1. 2.]\n",
      " [3. 4.]]\n"
     ]
    }
   ],
   "source": [
    "A = []\n",
    "for i in range(n):\n",
    "    row = list(map(float,input(f'Hàng {i+1}:').split()))\n",
    "    A.append(row)\n",
    "print(np.array(A))"
   ]
  },
  {
   "cell_type": "code",
   "execution_count": 64,
   "id": "da1f8113-bc90-4a40-b7f5-ec44b317f209",
   "metadata": {},
   "outputs": [],
   "source": [
    "import numpy as np"
   ]
  },
  {
   "cell_type": "code",
   "execution_count": 66,
   "id": "8d91b387-6aca-4cc2-8380-184986c1dc14",
   "metadata": {},
   "outputs": [
    {
     "name": "stdin",
     "output_type": "stream",
     "text": [
      "số cột của ma trận là: 2\n",
      "số hàng của ma trận là: 3\n"
     ]
    }
   ],
   "source": [
    "n = int(input('số cột của ma trận là:'))\n",
    "m = int(input('số hàng của ma trận là:'))"
   ]
  },
  {
   "cell_type": "code",
   "execution_count": 72,
   "id": "4f1f8a9b-e4ce-4003-91c5-8665f67cced7",
   "metadata": {},
   "outputs": [
    {
     "name": "stdin",
     "output_type": "stream",
     "text": [
      "Hàng 1:  2 3 4\n",
      "Hàng 2:  1 2 3\n"
     ]
    },
    {
     "name": "stdout",
     "output_type": "stream",
     "text": [
      "Ma trận chuyển vị liên hợp:\n",
      "[[2.-0.j 1.-0.j]\n",
      " [3.-0.j 2.-0.j]\n",
      " [4.-0.j 3.-0.j]]\n"
     ]
    }
   ],
   "source": [
    "A = []\n",
    "for i in range(n):\n",
    "    row = list(map(complex, input(f\"Hàng {i+1}: \").split()))\n",
    "    A.append(row)\n",
    "A = np.array(A, dtype=np.complex128)\n",
    "print('Ma trận chuyển vị liên hợp:')\n",
    "print(A.conj().T)"
   ]
  },
  {
   "cell_type": "code",
   "execution_count": 1,
   "id": "3e3f83bd-5cf4-4ef4-9f3b-de5f18ed2100",
   "metadata": {},
   "outputs": [],
   "source": [
    "import numpy as np"
   ]
  },
  {
   "cell_type": "code",
   "execution_count": 3,
   "id": "24eaf131-9925-40df-bf26-56831a536df4",
   "metadata": {},
   "outputs": [
    {
     "name": "stdin",
     "output_type": "stream",
     "text": [
      "Nhập kích thước của ma trận vuông {n}: 3\n",
      "hàng 1: 1 2 3\n",
      "hàng 2: 2 3 4\n",
      "hàng 3: 3 4 5\n"
     ]
    },
    {
     "name": "stdout",
     "output_type": "stream",
     "text": [
      "\n",
      " Ma trận vuông A:\n",
      "[[1. 2. 3.]\n",
      " [2. 3. 4.]\n",
      " [3. 4. 5.]]\n"
     ]
    }
   ],
   "source": [
    "# Nhập kích thước của ma trận vuông {nxn}:\n",
    "n = int(input(\"Nhập kích thước của ma trận vuông {n}:\"))\n",
    "\n",
    "A = []\n",
    "for i in range(n):\n",
    "    row = list(map(float,input(f\"hàng {i+1}:\").split()))\n",
    "    A.append(row)\n",
    "A = np.array(A)\n",
    "print(\"\\n Ma trận vuông A:\")\n",
    "print(A)"
   ]
  },
  {
   "cell_type": "code",
   "execution_count": 9,
   "id": "a448d53e-836f-4178-aeb5-e875c9a7a419",
   "metadata": {},
   "outputs": [
    {
     "name": "stdin",
     "output_type": "stream",
     "text": [
      "Nhập vào hàng: 2 \n",
      "nhập vào cột: 2\n",
      "nhập vào hàng 1: 1 2\n",
      "nhập vào hàng 2: 2 3\n"
     ]
    },
    {
     "name": "stdout",
     "output_type": "stream",
     "text": [
      "[[1.  1.5]\n",
      " [0.  1. ]]\n"
     ]
    }
   ],
   "source": [
    "import numpy as np\n",
    "def row_echelon_form(A):\n",
    "    A = A.astype(float)\n",
    "    rows,cols = A.shape\n",
    "    pivot_row = 0\n",
    "    for col in range(cols):\n",
    "        max_row = pivot_row + np.argmax(np.abs(A[pivot_row:,col]))\n",
    "        if A[max_row,col] == 0:\n",
    "            continue\n",
    "        A[[pivot_row,max_row]] = A[[max_row,pivot_row]]\n",
    "        A[pivot_row] = A[pivot_row] / A[pivot_row,col]\n",
    "        for row in range(pivot_row + 1,rows):\n",
    "            A[row] -= A[row,col] *A[pivot_row]\n",
    "        pivot_row += 1\n",
    "        if pivot_row == rows:\n",
    "            break\n",
    "    return A\n",
    "m = int(input(\"Nhập vào hàng:\"))\n",
    "n = int(input(\"nhập vào cột:\"))\n",
    "A = []\n",
    "for i in range(m):\n",
    "    row = list(map(float,input(f\"nhập vào hàng {i+1}:\").split()))\n",
    "    A.append(row)\n",
    "A =np.array(A)\n",
    "A_ref = row_echelon_form(A.copy())\n",
    "print(A_ref)"
   ]
  },
  {
   "cell_type": "code",
   "execution_count": 11,
   "id": "1508c06f-df8c-408c-a4e3-4078c1bd5d1e",
   "metadata": {},
   "outputs": [],
   "source": [
    "import numpy as np"
   ]
  },
  {
   "cell_type": "code",
   "execution_count": 17,
   "id": "4cdd0666-2b0d-4f95-aa9c-cdbd3330b870",
   "metadata": {},
   "outputs": [
    {
     "name": "stdin",
     "output_type": "stream",
     "text": [
      "nhập kích thước ma trận vuông(n):  2\n"
     ]
    },
    {
     "name": "stdout",
     "output_type": "stream",
     "text": [
      "ma trận ban đầu:\n",
      "[[2 5]\n",
      " [1 5]]\n",
      "\n",
      " ma trận tam giác trên là:\n",
      "[[2 5]\n",
      " [0 5]]\n",
      "\n",
      " ma trận tam giác dưới là:\n",
      "[[2 0]\n",
      " [1 5]]\n"
     ]
    }
   ],
   "source": [
    "n = int(input(\"nhập kích thước ma trận vuông(n): \"))\n",
    "A = np.random.randint(1,10,(n,n))\n",
    "upper = np.triu(A)\n",
    "lower = np.tril(A)\n",
    "print(\"ma trận ban đầu:\")\n",
    "print(A)\n",
    "print(\"\\n ma trận tam giác trên là:\")\n",
    "print(upper)\n",
    "print(\"\\n ma trận tam giác dưới là:\")\n",
    "print(lower)"
   ]
  },
  {
   "cell_type": "code",
   "execution_count": 29,
   "id": "bb40f29c-8021-43ff-b0ff-f7a18c1e3d56",
   "metadata": {},
   "outputs": [
    {
     "name": "stdin",
     "output_type": "stream",
     "text": [
      "nhập vào kích thước của ma trận vuông {n}: 2\n"
     ]
    },
    {
     "name": "stdout",
     "output_type": "stream",
     "text": [
      "ta có ma trận ban đầu là:\n",
      "[[-3 -8]\n",
      " [-6 -6]]\n",
      "ta có ma trận xác định dương là:\n",
      "[[ 45  60]\n",
      " [ 60 100]]\n"
     ]
    }
   ],
   "source": [
    "import numpy as np\n",
    "def tao_matran_duong(n):\n",
    "    B = np.random.randint(-10,-1,(n,n))\n",
    "    A = np.dot(B.T,B)\n",
    "    return A,B\n",
    "n = int(input(\"nhập vào kích thước của ma trận vuông {n}:\"))\n",
    "A,B = tao_matran_duong(n)\n",
    "print(\"ta có ma trận ban đầu là:\")\n",
    "print(B)\n",
    "print(\"ta có ma trận xác định dương là:\")\n",
    "print(A)"
   ]
  },
  {
   "cell_type": "code",
   "execution_count": 67,
   "id": "8f9dfff5-2afa-4355-9301-573cbda58f5d",
   "metadata": {},
   "outputs": [
    {
     "name": "stdin",
     "output_type": "stream",
     "text": [
      "nhập số hàng của ma trận A: 2\n",
      "nhập vào cột của ma trận A cũng là số hàng của ma trận B: 3\n",
      "nhập vào số cột của ma trận B: 2\n"
     ]
    },
    {
     "name": "stdout",
     "output_type": "stream",
     "text": [
      "\n",
      " Nhập vào ma trận A:\n"
     ]
    },
    {
     "name": "stdin",
     "output_type": "stream",
     "text": [
      "phần tử A[1][1] 1\n",
      "phần tử A[1][2] 1\n",
      "phần tử A[1][3] 1\n",
      "phần tử A[2][1] 1\n",
      "phần tử A[2][2] 1\n",
      "phần tử A[2][3] 1\n"
     ]
    },
    {
     "name": "stdout",
     "output_type": "stream",
     "text": [
      "(2, 3)\n",
      "\n",
      " nhập vào ma trận B:\n"
     ]
    },
    {
     "name": "stdin",
     "output_type": "stream",
     "text": [
      "phần tử B[1][1] 1\n",
      "phần tử B[1][2] 1\n",
      "phần tử B[2][1] 1\n",
      "phần tử B[2][2] 1\n",
      "phần tử B[3][1] 1\n",
      "phần tử B[3][2] 1\n"
     ]
    },
    {
     "name": "stdout",
     "output_type": "stream",
     "text": [
      "(3, 2)\n",
      "\n",
      " nhân 2 ma trận là:\n",
      "[[3 3]\n",
      " [3 3]]\n",
      "\n",
      " công 2 ma trận là:\n",
      "[[2 2 2]\n",
      " [2 2 2]]\n"
     ]
    }
   ],
   "source": [
    "import numpy as np\n",
    "m = int(input(\"nhập số hàng của ma trận A:\"))\n",
    "n = int(input(\"nhập vào cột của ma trận A cũng là số hàng của ma trận B:\"))\n",
    "p = int(input(\"nhập vào số cột của ma trận B:\"))\n",
    "\n",
    "print(\"\\n Nhập vào ma trận A:\")\n",
    "A = np.array([[int(input(f\"phần tử A[{j+1}][{i +1}]\")) for i  in range(n) ] for j in range(m)])\n",
    "print(A.shape)\n",
    "print(\"\\n nhập vào ma trận B:\")\n",
    "B = np.array([[int(input(f\"phần tử B[{j+1}][{i +1}]\"))for i in range(p)] for j in range(n)])\n",
    "print(B.shape)\n",
    "\n",
    "C = A@B # hoặc sử dụng dot(A,B)\n",
    "D = A + B.T\n",
    "print(\"\\n nhân 2 ma trận là:\")\n",
    "print(C)\n",
    "print(\"\\n công 2 ma trận là:\")\n",
    "print(D)"
   ]
  },
  {
   "cell_type": "code",
   "execution_count": 71,
   "id": "1a9ffcf4-08e5-46cc-921d-382267bd562c",
   "metadata": {},
   "outputs": [
    {
     "name": "stdin",
     "output_type": "stream",
     "text": [
      "nhập kích thước của ma trận vuông {n}: 2\n"
     ]
    },
    {
     "name": "stdout",
     "output_type": "stream",
     "text": [
      "\n",
      " nhập ma trận A:\n"
     ]
    },
    {
     "name": "stdin",
     "output_type": "stream",
     "text": [
      "A[0][0]:  2\n",
      "A[0][1]:  3\n",
      "A[1][0]:  1\n",
      "A[1][1]:  4\n"
     ]
    },
    {
     "name": "stdout",
     "output_type": "stream",
     "text": [
      "\n",
      " ma trận khả nghịch của A là!\n",
      "[[ 0.8 -0.6]\n",
      " [-0.2  0.4]]\n",
      "\n",
      " kiểm tra tính khả nghịch của ma trận A:\n",
      "[[1. 0.]\n",
      " [0. 1.]]\n"
     ]
    }
   ],
   "source": [
    "import numpy as np\n",
    "n = int(input(\"nhập kích thước của ma trận vuông {n}:\"))\n",
    "\n",
    "print(\"\\n nhập ma trận A:\")\n",
    "A = np.array([[float(input(f\"A[{i}][{j}]: \")) for j in range(n)] for i in range(n)])\n",
    "det_A = np.linalg.det(A)\n",
    "if det_A == 0:\n",
    "    print(\"ma trận A không phải là ma trận khả nghịch:\")\n",
    "else:\n",
    "    A_inv = np.linalg.inv(A)\n",
    "    print(\"\\n ma trận khả nghịch của A là!\")\n",
    "    print(A_inv)\n",
    "\n",
    "    print(\"\\n kiểm tra tính khả nghịch của ma trận A:\")\n",
    "    print(np.round(np.dot(A,A_inv),5))"
   ]
  },
  {
   "cell_type": "code",
   "execution_count": null,
   "id": "d030fe56-c78a-48a5-943a-ad0e6f70170b",
   "metadata": {},
   "outputs": [],
   "source": []
  },
  {
   "cell_type": "code",
   "execution_count": null,
   "id": "607ba851-60f9-4672-8eb8-0dbe26270229",
   "metadata": {},
   "outputs": [],
   "source": []
  }
 ],
 "metadata": {
  "kernelspec": {
   "display_name": "Python [conda env:base] *",
   "language": "python",
   "name": "conda-base-py"
  },
  "language_info": {
   "codemirror_mode": {
    "name": "ipython",
    "version": 3
   },
   "file_extension": ".py",
   "mimetype": "text/x-python",
   "name": "python",
   "nbconvert_exporter": "python",
   "pygments_lexer": "ipython3",
   "version": "3.12.8"
  }
 },
 "nbformat": 4,
 "nbformat_minor": 5
}

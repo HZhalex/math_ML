{
 "cells": [
  {
   "cell_type": "code",
   "execution_count": 5,
   "id": "c7035215-463b-43de-93be-40688bb1d6d5",
   "metadata": {},
   "outputs": [
    {
     "name": "stdout",
     "output_type": "stream",
     "text": [
      "Ma trận trực giao 3x3:\n",
      " [[-0.06327049  0.4305391  -0.90035156]\n",
      " [-0.95118584 -0.29907125 -0.0761701 ]\n",
      " [-0.30206347  0.85158234  0.42844508]]\n",
      "ma trận tam giác trên:\n",
      " [[-0.56094185 -1.17882988 -0.2914456 ]\n",
      " [ 0.          0.74509444  0.76242325]\n",
      " [ 0.          0.         -0.3346751 ]]\n"
     ]
    }
   ],
   "source": [
    "import numpy as np\n",
    "def random_orthogonal_matrix(n):\n",
    "    random_matrix = np.random.rand(n,n)\n",
    "    Q , R = np.linalg.qr(random_matrix)  # Phân rã QR để lấy Q (ma trận trực giao) và R là ma trận tam giác trên\n",
    "    return Q,R\n",
    "Q,R = random_orthogonal_matrix(3)\n",
    "print(\"Ma trận trực giao 3x3:\\n\", Q)\n",
    "print(\"ma trận tam giác trên:\\n\",R)"
   ]
  },
  {
   "cell_type": "code",
   "execution_count": null,
   "id": "f30f3617-f443-4175-ab7e-6f92ce92de64",
   "metadata": {},
   "outputs": [],
   "source": []
  }
 ],
 "metadata": {
  "kernelspec": {
   "display_name": "Python [conda env:base] *",
   "language": "python",
   "name": "conda-base-py"
  },
  "language_info": {
   "codemirror_mode": {
    "name": "ipython",
    "version": 3
   },
   "file_extension": ".py",
   "mimetype": "text/x-python",
   "name": "python",
   "nbconvert_exporter": "python",
   "pygments_lexer": "ipython3",
   "version": "3.12.8"
  }
 },
 "nbformat": 4,
 "nbformat_minor": 5
}
